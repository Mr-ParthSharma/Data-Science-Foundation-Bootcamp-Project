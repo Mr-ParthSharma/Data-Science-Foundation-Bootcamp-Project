{
  "nbformat": 4,
  "nbformat_minor": 0,
  "metadata": {
    "colab": {
      "name": "Logical Regression on Preprocessed_dataset.ipynb",
      "provenance": [],
      "collapsed_sections": []
    },
    "kernelspec": {
      "name": "python3",
      "display_name": "Python 3"
    },
    "language_info": {
      "name": "python"
    }
  },
  "cells": [
    {
      "cell_type": "markdown",
      "metadata": {
        "id": "l5XOmXejbEXz"
      },
      "source": [
        "# Import the needed libraries"
      ]
    },
    {
      "cell_type": "code",
      "metadata": {
        "id": "AdnvkaxIbJSk"
      },
      "source": [
        "# import the relevant libraries\n",
        "import pandas as pd\n",
        "import numpy as np"
      ],
      "execution_count": null,
      "outputs": []
    },
    {
      "cell_type": "markdown",
      "metadata": {
        "id": "OGrdomvDcq2P"
      },
      "source": [
        "# Load the data"
      ]
    },
    {
      "cell_type": "code",
      "metadata": {
        "colab": {
          "resources": {
            "http://localhost:8080/nbextensions/google.colab/files.js": {
              "data": "Ly8gQ29weXJpZ2h0IDIwMTcgR29vZ2xlIExMQwovLwovLyBMaWNlbnNlZCB1bmRlciB0aGUgQXBhY2hlIExpY2Vuc2UsIFZlcnNpb24gMi4wICh0aGUgIkxpY2Vuc2UiKTsKLy8geW91IG1heSBub3QgdXNlIHRoaXMgZmlsZSBleGNlcHQgaW4gY29tcGxpYW5jZSB3aXRoIHRoZSBMaWNlbnNlLgovLyBZb3UgbWF5IG9idGFpbiBhIGNvcHkgb2YgdGhlIExpY2Vuc2UgYXQKLy8KLy8gICAgICBodHRwOi8vd3d3LmFwYWNoZS5vcmcvbGljZW5zZXMvTElDRU5TRS0yLjAKLy8KLy8gVW5sZXNzIHJlcXVpcmVkIGJ5IGFwcGxpY2FibGUgbGF3IG9yIGFncmVlZCB0byBpbiB3cml0aW5nLCBzb2Z0d2FyZQovLyBkaXN0cmlidXRlZCB1bmRlciB0aGUgTGljZW5zZSBpcyBkaXN0cmlidXRlZCBvbiBhbiAiQVMgSVMiIEJBU0lTLAovLyBXSVRIT1VUIFdBUlJBTlRJRVMgT1IgQ09ORElUSU9OUyBPRiBBTlkgS0lORCwgZWl0aGVyIGV4cHJlc3Mgb3IgaW1wbGllZC4KLy8gU2VlIHRoZSBMaWNlbnNlIGZvciB0aGUgc3BlY2lmaWMgbGFuZ3VhZ2UgZ292ZXJuaW5nIHBlcm1pc3Npb25zIGFuZAovLyBsaW1pdGF0aW9ucyB1bmRlciB0aGUgTGljZW5zZS4KCi8qKgogKiBAZmlsZW92ZXJ2aWV3IEhlbHBlcnMgZm9yIGdvb2dsZS5jb2xhYiBQeXRob24gbW9kdWxlLgogKi8KKGZ1bmN0aW9uKHNjb3BlKSB7CmZ1bmN0aW9uIHNwYW4odGV4dCwgc3R5bGVBdHRyaWJ1dGVzID0ge30pIHsKICBjb25zdCBlbGVtZW50ID0gZG9jdW1lbnQuY3JlYXRlRWxlbWVudCgnc3BhbicpOwogIGVsZW1lbnQudGV4dENvbnRlbnQgPSB0ZXh0OwogIGZvciAoY29uc3Qga2V5IG9mIE9iamVjdC5rZXlzKHN0eWxlQXR0cmlidXRlcykpIHsKICAgIGVsZW1lbnQuc3R5bGVba2V5XSA9IHN0eWxlQXR0cmlidXRlc1trZXldOwogIH0KICByZXR1cm4gZWxlbWVudDsKfQoKLy8gTWF4IG51bWJlciBvZiBieXRlcyB3aGljaCB3aWxsIGJlIHVwbG9hZGVkIGF0IGEgdGltZS4KY29uc3QgTUFYX1BBWUxPQURfU0laRSA9IDEwMCAqIDEwMjQ7CgpmdW5jdGlvbiBfdXBsb2FkRmlsZXMoaW5wdXRJZCwgb3V0cHV0SWQpIHsKICBjb25zdCBzdGVwcyA9IHVwbG9hZEZpbGVzU3RlcChpbnB1dElkLCBvdXRwdXRJZCk7CiAgY29uc3Qgb3V0cHV0RWxlbWVudCA9IGRvY3VtZW50LmdldEVsZW1lbnRCeUlkKG91dHB1dElkKTsKICAvLyBDYWNoZSBzdGVwcyBvbiB0aGUgb3V0cHV0RWxlbWVudCB0byBtYWtlIGl0IGF2YWlsYWJsZSBmb3IgdGhlIG5leHQgY2FsbAogIC8vIHRvIHVwbG9hZEZpbGVzQ29udGludWUgZnJvbSBQeXRob24uCiAgb3V0cHV0RWxlbWVudC5zdGVwcyA9IHN0ZXBzOwoKICByZXR1cm4gX3VwbG9hZEZpbGVzQ29udGludWUob3V0cHV0SWQpOwp9CgovLyBUaGlzIGlzIHJvdWdobHkgYW4gYXN5bmMgZ2VuZXJhdG9yIChub3Qgc3VwcG9ydGVkIGluIHRoZSBicm93c2VyIHlldCksCi8vIHdoZXJlIHRoZXJlIGFyZSBtdWx0aXBsZSBhc3luY2hyb25vdXMgc3RlcHMgYW5kIHRoZSBQeXRob24gc2lkZSBpcyBnb2luZwovLyB0byBwb2xsIGZvciBjb21wbGV0aW9uIG9mIGVhY2ggc3RlcC4KLy8gVGhpcyB1c2VzIGEgUHJvbWlzZSB0byBibG9jayB0aGUgcHl0aG9uIHNpZGUgb24gY29tcGxldGlvbiBvZiBlYWNoIHN0ZXAsCi8vIHRoZW4gcGFzc2VzIHRoZSByZXN1bHQgb2YgdGhlIHByZXZpb3VzIHN0ZXAgYXMgdGhlIGlucHV0IHRvIHRoZSBuZXh0IHN0ZXAuCmZ1bmN0aW9uIF91cGxvYWRGaWxlc0NvbnRpbnVlKG91dHB1dElkKSB7CiAgY29uc3Qgb3V0cHV0RWxlbWVudCA9IGRvY3VtZW50LmdldEVsZW1lbnRCeUlkKG91dHB1dElkKTsKICBjb25zdCBzdGVwcyA9IG91dHB1dEVsZW1lbnQuc3RlcHM7CgogIGNvbnN0IG5leHQgPSBzdGVwcy5uZXh0KG91dHB1dEVsZW1lbnQubGFzdFByb21pc2VWYWx1ZSk7CiAgcmV0dXJuIFByb21pc2UucmVzb2x2ZShuZXh0LnZhbHVlLnByb21pc2UpLnRoZW4oKHZhbHVlKSA9PiB7CiAgICAvLyBDYWNoZSB0aGUgbGFzdCBwcm9taXNlIHZhbHVlIHRvIG1ha2UgaXQgYXZhaWxhYmxlIHRvIHRoZSBuZXh0CiAgICAvLyBzdGVwIG9mIHRoZSBnZW5lcmF0b3IuCiAgICBvdXRwdXRFbGVtZW50Lmxhc3RQcm9taXNlVmFsdWUgPSB2YWx1ZTsKICAgIHJldHVybiBuZXh0LnZhbHVlLnJlc3BvbnNlOwogIH0pOwp9CgovKioKICogR2VuZXJhdG9yIGZ1bmN0aW9uIHdoaWNoIGlzIGNhbGxlZCBiZXR3ZWVuIGVhY2ggYXN5bmMgc3RlcCBvZiB0aGUgdXBsb2FkCiAqIHByb2Nlc3MuCiAqIEBwYXJhbSB7c3RyaW5nfSBpbnB1dElkIEVsZW1lbnQgSUQgb2YgdGhlIGlucHV0IGZpbGUgcGlja2VyIGVsZW1lbnQuCiAqIEBwYXJhbSB7c3RyaW5nfSBvdXRwdXRJZCBFbGVtZW50IElEIG9mIHRoZSBvdXRwdXQgZGlzcGxheS4KICogQHJldHVybiB7IUl0ZXJhYmxlPCFPYmplY3Q+fSBJdGVyYWJsZSBvZiBuZXh0IHN0ZXBzLgogKi8KZnVuY3Rpb24qIHVwbG9hZEZpbGVzU3RlcChpbnB1dElkLCBvdXRwdXRJZCkgewogIGNvbnN0IGlucHV0RWxlbWVudCA9IGRvY3VtZW50LmdldEVsZW1lbnRCeUlkKGlucHV0SWQpOwogIGlucHV0RWxlbWVudC5kaXNhYmxlZCA9IGZhbHNlOwoKICBjb25zdCBvdXRwdXRFbGVtZW50ID0gZG9jdW1lbnQuZ2V0RWxlbWVudEJ5SWQob3V0cHV0SWQpOwogIG91dHB1dEVsZW1lbnQuaW5uZXJIVE1MID0gJyc7CgogIGNvbnN0IHBpY2tlZFByb21pc2UgPSBuZXcgUHJvbWlzZSgocmVzb2x2ZSkgPT4gewogICAgaW5wdXRFbGVtZW50LmFkZEV2ZW50TGlzdGVuZXIoJ2NoYW5nZScsIChlKSA9PiB7CiAgICAgIHJlc29sdmUoZS50YXJnZXQuZmlsZXMpOwogICAgfSk7CiAgfSk7CgogIGNvbnN0IGNhbmNlbCA9IGRvY3VtZW50LmNyZWF0ZUVsZW1lbnQoJ2J1dHRvbicpOwogIGlucHV0RWxlbWVudC5wYXJlbnRFbGVtZW50LmFwcGVuZENoaWxkKGNhbmNlbCk7CiAgY2FuY2VsLnRleHRDb250ZW50ID0gJ0NhbmNlbCB1cGxvYWQnOwogIGNvbnN0IGNhbmNlbFByb21pc2UgPSBuZXcgUHJvbWlzZSgocmVzb2x2ZSkgPT4gewogICAgY2FuY2VsLm9uY2xpY2sgPSAoKSA9PiB7CiAgICAgIHJlc29sdmUobnVsbCk7CiAgICB9OwogIH0pOwoKICAvLyBXYWl0IGZvciB0aGUgdXNlciB0byBwaWNrIHRoZSBmaWxlcy4KICBjb25zdCBmaWxlcyA9IHlpZWxkIHsKICAgIHByb21pc2U6IFByb21pc2UucmFjZShbcGlja2VkUHJvbWlzZSwgY2FuY2VsUHJvbWlzZV0pLAogICAgcmVzcG9uc2U6IHsKICAgICAgYWN0aW9uOiAnc3RhcnRpbmcnLAogICAgfQogIH07CgogIGNhbmNlbC5yZW1vdmUoKTsKCiAgLy8gRGlzYWJsZSB0aGUgaW5wdXQgZWxlbWVudCBzaW5jZSBmdXJ0aGVyIHBpY2tzIGFyZSBub3QgYWxsb3dlZC4KICBpbnB1dEVsZW1lbnQuZGlzYWJsZWQgPSB0cnVlOwoKICBpZiAoIWZpbGVzKSB7CiAgICByZXR1cm4gewogICAgICByZXNwb25zZTogewogICAgICAgIGFjdGlvbjogJ2NvbXBsZXRlJywKICAgICAgfQogICAgfTsKICB9CgogIGZvciAoY29uc3QgZmlsZSBvZiBmaWxlcykgewogICAgY29uc3QgbGkgPSBkb2N1bWVudC5jcmVhdGVFbGVtZW50KCdsaScpOwogICAgbGkuYXBwZW5kKHNwYW4oZmlsZS5uYW1lLCB7Zm9udFdlaWdodDogJ2JvbGQnfSkpOwogICAgbGkuYXBwZW5kKHNwYW4oCiAgICAgICAgYCgke2ZpbGUudHlwZSB8fCAnbi9hJ30pIC0gJHtmaWxlLnNpemV9IGJ5dGVzLCBgICsKICAgICAgICBgbGFzdCBtb2RpZmllZDogJHsKICAgICAgICAgICAgZmlsZS5sYXN0TW9kaWZpZWREYXRlID8gZmlsZS5sYXN0TW9kaWZpZWREYXRlLnRvTG9jYWxlRGF0ZVN0cmluZygpIDoKICAgICAgICAgICAgICAgICAgICAgICAgICAgICAgICAgICAgJ24vYSd9IC0gYCkpOwogICAgY29uc3QgcGVyY2VudCA9IHNwYW4oJzAlIGRvbmUnKTsKICAgIGxpLmFwcGVuZENoaWxkKHBlcmNlbnQpOwoKICAgIG91dHB1dEVsZW1lbnQuYXBwZW5kQ2hpbGQobGkpOwoKICAgIGNvbnN0IGZpbGVEYXRhUHJvbWlzZSA9IG5ldyBQcm9taXNlKChyZXNvbHZlKSA9PiB7CiAgICAgIGNvbnN0IHJlYWRlciA9IG5ldyBGaWxlUmVhZGVyKCk7CiAgICAgIHJlYWRlci5vbmxvYWQgPSAoZSkgPT4gewogICAgICAgIHJlc29sdmUoZS50YXJnZXQucmVzdWx0KTsKICAgICAgfTsKICAgICAgcmVhZGVyLnJlYWRBc0FycmF5QnVmZmVyKGZpbGUpOwogICAgfSk7CiAgICAvLyBXYWl0IGZvciB0aGUgZGF0YSB0byBiZSByZWFkeS4KICAgIGxldCBmaWxlRGF0YSA9IHlpZWxkIHsKICAgICAgcHJvbWlzZTogZmlsZURhdGFQcm9taXNlLAogICAgICByZXNwb25zZTogewogICAgICAgIGFjdGlvbjogJ2NvbnRpbnVlJywKICAgICAgfQogICAgfTsKCiAgICAvLyBVc2UgYSBjaHVua2VkIHNlbmRpbmcgdG8gYXZvaWQgbWVzc2FnZSBzaXplIGxpbWl0cy4gU2VlIGIvNjIxMTU2NjAuCiAgICBsZXQgcG9zaXRpb24gPSAwOwogICAgd2hpbGUgKHBvc2l0aW9uIDwgZmlsZURhdGEuYnl0ZUxlbmd0aCkgewogICAgICBjb25zdCBsZW5ndGggPSBNYXRoLm1pbihmaWxlRGF0YS5ieXRlTGVuZ3RoIC0gcG9zaXRpb24sIE1BWF9QQVlMT0FEX1NJWkUpOwogICAgICBjb25zdCBjaHVuayA9IG5ldyBVaW50OEFycmF5KGZpbGVEYXRhLCBwb3NpdGlvbiwgbGVuZ3RoKTsKICAgICAgcG9zaXRpb24gKz0gbGVuZ3RoOwoKICAgICAgY29uc3QgYmFzZTY0ID0gYnRvYShTdHJpbmcuZnJvbUNoYXJDb2RlLmFwcGx5KG51bGwsIGNodW5rKSk7CiAgICAgIHlpZWxkIHsKICAgICAgICByZXNwb25zZTogewogICAgICAgICAgYWN0aW9uOiAnYXBwZW5kJywKICAgICAgICAgIGZpbGU6IGZpbGUubmFtZSwKICAgICAgICAgIGRhdGE6IGJhc2U2NCwKICAgICAgICB9LAogICAgICB9OwogICAgICBwZXJjZW50LnRleHRDb250ZW50ID0KICAgICAgICAgIGAke01hdGgucm91bmQoKHBvc2l0aW9uIC8gZmlsZURhdGEuYnl0ZUxlbmd0aCkgKiAxMDApfSUgZG9uZWA7CiAgICB9CiAgfQoKICAvLyBBbGwgZG9uZS4KICB5aWVsZCB7CiAgICByZXNwb25zZTogewogICAgICBhY3Rpb246ICdjb21wbGV0ZScsCiAgICB9CiAgfTsKfQoKc2NvcGUuZ29vZ2xlID0gc2NvcGUuZ29vZ2xlIHx8IHt9OwpzY29wZS5nb29nbGUuY29sYWIgPSBzY29wZS5nb29nbGUuY29sYWIgfHwge307CnNjb3BlLmdvb2dsZS5jb2xhYi5fZmlsZXMgPSB7CiAgX3VwbG9hZEZpbGVzLAogIF91cGxvYWRGaWxlc0NvbnRpbnVlLAp9Owp9KShzZWxmKTsK",
              "ok": true,
              "headers": [
                [
                  "content-type",
                  "application/javascript"
                ]
              ],
              "status": 200,
              "status_text": ""
            }
          },
          "base_uri": "https://localhost:8080/",
          "height": 73
        },
        "id": "AuXNwuMDcu0_",
        "outputId": "e5453ae1-e399-45f0-ec8b-3bf0844aa163"
      },
      "source": [
        "from google.colab import files\n",
        "uploaded = files.upload()"
      ],
      "execution_count": null,
      "outputs": [
        {
          "output_type": "display_data",
          "data": {
            "text/html": [
              "\n",
              "     <input type=\"file\" id=\"files-00baf3a4-634f-4684-bcbf-9f44e6d60375\" name=\"files[]\" multiple disabled\n",
              "        style=\"border:none\" />\n",
              "     <output id=\"result-00baf3a4-634f-4684-bcbf-9f44e6d60375\">\n",
              "      Upload widget is only available when the cell has been executed in the\n",
              "      current browser session. Please rerun this cell to enable.\n",
              "      </output>\n",
              "      <script src=\"/nbextensions/google.colab/files.js\"></script> "
            ],
            "text/plain": [
              "<IPython.core.display.HTML object>"
            ]
          },
          "metadata": {
            "tags": []
          }
        },
        {
          "output_type": "stream",
          "text": [
            "Saving Absenteeism_preprocessed_1.csv to Absenteeism_preprocessed_1 (1).csv\n"
          ],
          "name": "stdout"
        }
      ]
    },
    {
      "cell_type": "code",
      "metadata": {
        "id": "QF06C3LpezMI"
      },
      "source": [
        "import io\n",
        "data_preprocessed = pd.read_csv(io.BytesIO(uploaded['Absenteeism_preprocessed_1.csv']))\n",
        "# Dataset is now stored in a Pandas Dataframe"
      ],
      "execution_count": null,
      "outputs": []
    },
    {
      "cell_type": "code",
      "metadata": {
        "colab": {
          "base_uri": "https://localhost:8080/",
          "height": 237
        },
        "id": "xrpMT0mce-Dx",
        "outputId": "40b28bd5-7a9d-4f5e-dd92-dd5960b79b98"
      },
      "source": [
        "# eyeball the data\n",
        "data_preprocessed.head()"
      ],
      "execution_count": null,
      "outputs": [
        {
          "output_type": "execute_result",
          "data": {
            "text/html": [
              "<div>\n",
              "<style scoped>\n",
              "    .dataframe tbody tr th:only-of-type {\n",
              "        vertical-align: middle;\n",
              "    }\n",
              "\n",
              "    .dataframe tbody tr th {\n",
              "        vertical-align: top;\n",
              "    }\n",
              "\n",
              "    .dataframe thead th {\n",
              "        text-align: right;\n",
              "    }\n",
              "</style>\n",
              "<table border=\"1\" class=\"dataframe\">\n",
              "  <thead>\n",
              "    <tr style=\"text-align: right;\">\n",
              "      <th></th>\n",
              "      <th>Reason_1</th>\n",
              "      <th>Reason_2</th>\n",
              "      <th>Reason_3</th>\n",
              "      <th>Reason_4</th>\n",
              "      <th>Month Value</th>\n",
              "      <th>Day of the Week</th>\n",
              "      <th>Transportation Expense</th>\n",
              "      <th>Distance to Work</th>\n",
              "      <th>Age</th>\n",
              "      <th>Daily Work Load Average</th>\n",
              "      <th>Body Mass Index</th>\n",
              "      <th>Education</th>\n",
              "      <th>Children</th>\n",
              "      <th>Pet</th>\n",
              "      <th>Absenteeism Time in Hours</th>\n",
              "    </tr>\n",
              "  </thead>\n",
              "  <tbody>\n",
              "    <tr>\n",
              "      <th>0</th>\n",
              "      <td>0</td>\n",
              "      <td>0</td>\n",
              "      <td>0</td>\n",
              "      <td>1</td>\n",
              "      <td>7</td>\n",
              "      <td>1</td>\n",
              "      <td>289</td>\n",
              "      <td>36</td>\n",
              "      <td>33</td>\n",
              "      <td>239.554</td>\n",
              "      <td>30</td>\n",
              "      <td>0</td>\n",
              "      <td>2</td>\n",
              "      <td>1</td>\n",
              "      <td>4</td>\n",
              "    </tr>\n",
              "    <tr>\n",
              "      <th>1</th>\n",
              "      <td>0</td>\n",
              "      <td>0</td>\n",
              "      <td>0</td>\n",
              "      <td>0</td>\n",
              "      <td>7</td>\n",
              "      <td>1</td>\n",
              "      <td>118</td>\n",
              "      <td>13</td>\n",
              "      <td>50</td>\n",
              "      <td>239.554</td>\n",
              "      <td>31</td>\n",
              "      <td>0</td>\n",
              "      <td>1</td>\n",
              "      <td>0</td>\n",
              "      <td>0</td>\n",
              "    </tr>\n",
              "    <tr>\n",
              "      <th>2</th>\n",
              "      <td>0</td>\n",
              "      <td>0</td>\n",
              "      <td>0</td>\n",
              "      <td>1</td>\n",
              "      <td>7</td>\n",
              "      <td>2</td>\n",
              "      <td>179</td>\n",
              "      <td>51</td>\n",
              "      <td>38</td>\n",
              "      <td>239.554</td>\n",
              "      <td>31</td>\n",
              "      <td>0</td>\n",
              "      <td>0</td>\n",
              "      <td>0</td>\n",
              "      <td>2</td>\n",
              "    </tr>\n",
              "    <tr>\n",
              "      <th>3</th>\n",
              "      <td>1</td>\n",
              "      <td>0</td>\n",
              "      <td>0</td>\n",
              "      <td>0</td>\n",
              "      <td>7</td>\n",
              "      <td>3</td>\n",
              "      <td>279</td>\n",
              "      <td>5</td>\n",
              "      <td>39</td>\n",
              "      <td>239.554</td>\n",
              "      <td>24</td>\n",
              "      <td>0</td>\n",
              "      <td>2</td>\n",
              "      <td>0</td>\n",
              "      <td>4</td>\n",
              "    </tr>\n",
              "    <tr>\n",
              "      <th>4</th>\n",
              "      <td>0</td>\n",
              "      <td>0</td>\n",
              "      <td>0</td>\n",
              "      <td>1</td>\n",
              "      <td>7</td>\n",
              "      <td>3</td>\n",
              "      <td>289</td>\n",
              "      <td>36</td>\n",
              "      <td>33</td>\n",
              "      <td>239.554</td>\n",
              "      <td>30</td>\n",
              "      <td>0</td>\n",
              "      <td>2</td>\n",
              "      <td>1</td>\n",
              "      <td>2</td>\n",
              "    </tr>\n",
              "  </tbody>\n",
              "</table>\n",
              "</div>"
            ],
            "text/plain": [
              "   Reason_1  Reason_2  Reason_3  ...  Children  Pet  Absenteeism Time in Hours\n",
              "0         0         0         0  ...         2    1                          4\n",
              "1         0         0         0  ...         1    0                          0\n",
              "2         0         0         0  ...         0    0                          2\n",
              "3         1         0         0  ...         2    0                          4\n",
              "4         0         0         0  ...         2    1                          2\n",
              "\n",
              "[5 rows x 15 columns]"
            ]
          },
          "metadata": {
            "tags": []
          },
          "execution_count": 37
        }
      ]
    },
    {
      "cell_type": "markdown",
      "metadata": {
        "id": "YzTaqzX1fQaI"
      },
      "source": [
        "# Create the targets"
      ]
    },
    {
      "cell_type": "code",
      "metadata": {
        "colab": {
          "base_uri": "https://localhost:8080/"
        },
        "id": "S7LGJgLnfSCn",
        "outputId": "8fc9bce6-21e8-487c-e167-571f215461b6"
      },
      "source": [
        "# find the median of 'Absenteeism Time in Hours'\n",
        "data_preprocessed['Absenteeism Time in Hours'].median()"
      ],
      "execution_count": null,
      "outputs": [
        {
          "output_type": "execute_result",
          "data": {
            "text/plain": [
              "3.0"
            ]
          },
          "metadata": {
            "tags": []
          },
          "execution_count": 38
        }
      ]
    },
    {
      "cell_type": "code",
      "metadata": {
        "id": "5BT2-_hMfoGk"
      },
      "source": [
        "# create targets for our logistic regression\n",
        "# they have to be categories and we must find a way to say if someone is 'being absent too much' or not\n",
        "# what we've decided to do is to take the median of the dataset as a cut-off line\n",
        "# in this way the dataset will be balanced (there will be roughly equal number of 0s and 1s for the logistic regression)\n",
        "# as balancing is a great problem for ML, this will work great for us\n",
        "# alternatively, if we had more data, we could have found other ways to deal with the issue \n",
        "# for instance, we could have assigned some arbitrary value as a cut-off line, instead of the median\n",
        "\n",
        "# note that what line does is to assign 1 to anyone who has been absent 4 hours or more (more than 3 hours)\n",
        "# that is the equivalent of taking half a day off\n",
        "\n",
        "# initial code from the lecture\n",
        "# targets = np.where(data_preprocessed['Absenteeism Time in Hours'] > 3, 1, 0)\n",
        "\n",
        "# parameterized code\n",
        "targets = np.where(data_preprocessed['Absenteeism Time in Hours'] > \n",
        "                   data_preprocessed['Absenteeism Time in Hours'].median(), 1, 0)"
      ],
      "execution_count": null,
      "outputs": []
    },
    {
      "cell_type": "code",
      "metadata": {
        "colab": {
          "base_uri": "https://localhost:8080/"
        },
        "id": "3M4-06f5fqs4",
        "outputId": "49eeffeb-02aa-4e7e-8980-6b43da80b3d8"
      },
      "source": [
        "# look the targets\n",
        "targets"
      ],
      "execution_count": null,
      "outputs": [
        {
          "output_type": "execute_result",
          "data": {
            "text/plain": [
              "array([1, 0, 0, 1, 0, 0, 1, 1, 1, 1, 1, 1, 1, 0, 1, 1, 0, 1, 1, 0, 1, 0,\n",
              "       1, 1, 1, 1, 0, 1, 1, 0, 1, 1, 1, 1, 0, 0, 1, 1, 1, 1, 0, 1, 1, 1,\n",
              "       0, 0, 0, 1, 1, 1, 0, 0, 0, 0, 0, 0, 0, 0, 0, 0, 0, 1, 0, 0, 0, 0,\n",
              "       0, 0, 0, 0, 0, 1, 1, 0, 1, 1, 0, 1, 0, 0, 0, 0, 1, 1, 1, 1, 1, 1,\n",
              "       0, 1, 0, 1, 0, 1, 0, 0, 1, 0, 0, 1, 0, 1, 0, 1, 1, 1, 0, 0, 0, 1,\n",
              "       0, 1, 0, 0, 0, 0, 1, 0, 0, 0, 0, 0, 0, 0, 0, 0, 0, 0, 0, 1, 1, 0,\n",
              "       0, 0, 0, 0, 0, 0, 1, 1, 0, 1, 0, 1, 1, 1, 0, 0, 0, 1, 0, 1, 0, 0,\n",
              "       1, 0, 1, 0, 1, 1, 1, 1, 0, 1, 1, 1, 1, 1, 1, 1, 1, 0, 1, 1, 0, 1,\n",
              "       0, 1, 1, 0, 1, 0, 0, 0, 0, 0, 0, 1, 0, 0, 1, 1, 0, 0, 1, 0, 1, 1,\n",
              "       1, 1, 1, 1, 0, 0, 1, 0, 0, 1, 1, 1, 0, 0, 1, 0, 0, 0, 0, 0, 1, 1,\n",
              "       1, 1, 1, 1, 1, 1, 1, 1, 1, 1, 0, 1, 1, 0, 0, 0, 1, 1, 1, 1, 1, 1,\n",
              "       0, 1, 1, 0, 1, 1, 1, 1, 1, 0, 1, 0, 0, 1, 0, 0, 1, 1, 0, 1, 0, 0,\n",
              "       0, 0, 0, 1, 1, 1, 1, 0, 1, 0, 1, 0, 0, 0, 1, 1, 0, 1, 1, 1, 0, 0,\n",
              "       0, 1, 1, 1, 1, 1, 1, 0, 0, 1, 0, 1, 0, 1, 0, 1, 0, 0, 0, 0, 0, 1,\n",
              "       1, 0, 1, 0, 0, 0, 1, 1, 0, 1, 0, 1, 0, 0, 1, 1, 1, 0, 0, 0, 0, 0,\n",
              "       1, 1, 1, 0, 1, 1, 0, 0, 0, 0, 0, 0, 0, 0, 1, 1, 0, 0, 0, 1, 0, 0,\n",
              "       1, 1, 1, 0, 0, 1, 1, 1, 0, 0, 1, 1, 1, 1, 1, 0, 0, 0, 0, 0, 0, 0,\n",
              "       0, 0, 0, 1, 1, 0, 1, 0, 0, 0, 1, 0, 0, 1, 0, 0, 1, 1, 0, 1, 0, 1,\n",
              "       1, 1, 1, 1, 0, 1, 0, 0, 1, 0, 0, 0, 1, 1, 1, 0, 1, 0, 1, 1, 1, 1,\n",
              "       1, 0, 1, 1, 1, 1, 0, 1, 0, 1, 0, 1, 0, 0, 0, 0, 1, 0, 1, 0, 0, 1,\n",
              "       0, 0, 0, 0, 1, 1, 0, 1, 1, 0, 1, 1, 0, 0, 0, 1, 0, 0, 0, 1, 0, 1,\n",
              "       1, 1, 1, 1, 1, 1, 1, 0, 0, 1, 0, 0, 1, 1, 1, 0, 0, 0, 1, 0, 1, 1,\n",
              "       1, 1, 1, 1, 1, 1, 1, 0, 1, 0, 0, 0, 0, 0, 0, 0, 1, 0, 1, 0, 0, 1,\n",
              "       1, 0, 0, 1, 0, 0, 0, 0, 0, 0, 1, 0, 1, 1, 0, 0, 0, 1, 0, 1, 0, 1,\n",
              "       1, 1, 0, 0, 0, 0, 1, 0, 1, 1, 1, 1, 1, 0, 0, 0, 0, 1, 1, 0, 0, 0,\n",
              "       1, 0, 0, 1, 0, 1, 0, 0, 0, 0, 0, 1, 0, 1, 1, 1, 0, 0, 0, 1, 1, 1,\n",
              "       0, 0, 0, 0, 1, 0, 0, 1, 0, 0, 1, 0, 0, 1, 0, 1, 0, 0, 0, 0, 0, 0,\n",
              "       0, 0, 1, 0, 0, 0, 0, 0, 0, 0, 0, 0, 1, 0, 1, 0, 0, 0, 0, 0, 0, 0,\n",
              "       0, 0, 0, 0, 0, 0, 1, 0, 0, 0, 0, 0, 0, 1, 1, 0, 0, 0, 1, 0, 0, 1,\n",
              "       0, 1, 0, 0, 0, 0, 0, 0, 0, 1, 1, 0, 0, 0, 1, 1, 1, 1, 1, 1, 1, 0,\n",
              "       1, 0, 0, 0, 0, 1, 0, 1, 0, 0, 1, 1, 0, 0, 1, 0, 0, 0, 1, 0, 0, 1,\n",
              "       1, 1, 0, 0, 0, 0, 0, 0, 0, 0, 1, 1, 1, 1, 0, 1, 0, 0])"
            ]
          },
          "metadata": {
            "tags": []
          },
          "execution_count": 40
        }
      ]
    },
    {
      "cell_type": "code",
      "metadata": {
        "id": "KIl0risif35s"
      },
      "source": [
        "# create a Series in the original data frame that will contain the targets for the regression\n",
        "data_preprocessed['Excessive Absenteeism'] = targets"
      ],
      "execution_count": null,
      "outputs": []
    },
    {
      "cell_type": "code",
      "metadata": {
        "colab": {
          "base_uri": "https://localhost:8080/",
          "height": 274
        },
        "id": "_9Oo0A5ggRTS",
        "outputId": "2572d452-2a8a-4558-8f00-40cc6969da35"
      },
      "source": [
        "# check what happened\n",
        "# maybe manually see how the targets were created\n",
        "data_preprocessed.head()"
      ],
      "execution_count": null,
      "outputs": [
        {
          "output_type": "execute_result",
          "data": {
            "text/html": [
              "<div>\n",
              "<style scoped>\n",
              "    .dataframe tbody tr th:only-of-type {\n",
              "        vertical-align: middle;\n",
              "    }\n",
              "\n",
              "    .dataframe tbody tr th {\n",
              "        vertical-align: top;\n",
              "    }\n",
              "\n",
              "    .dataframe thead th {\n",
              "        text-align: right;\n",
              "    }\n",
              "</style>\n",
              "<table border=\"1\" class=\"dataframe\">\n",
              "  <thead>\n",
              "    <tr style=\"text-align: right;\">\n",
              "      <th></th>\n",
              "      <th>Reason_1</th>\n",
              "      <th>Reason_2</th>\n",
              "      <th>Reason_3</th>\n",
              "      <th>Reason_4</th>\n",
              "      <th>Month Value</th>\n",
              "      <th>Day of the Week</th>\n",
              "      <th>Transportation Expense</th>\n",
              "      <th>Distance to Work</th>\n",
              "      <th>Age</th>\n",
              "      <th>Daily Work Load Average</th>\n",
              "      <th>Body Mass Index</th>\n",
              "      <th>Education</th>\n",
              "      <th>Children</th>\n",
              "      <th>Pet</th>\n",
              "      <th>Absenteeism Time in Hours</th>\n",
              "      <th>Excessive Absenteeism</th>\n",
              "    </tr>\n",
              "  </thead>\n",
              "  <tbody>\n",
              "    <tr>\n",
              "      <th>0</th>\n",
              "      <td>0</td>\n",
              "      <td>0</td>\n",
              "      <td>0</td>\n",
              "      <td>1</td>\n",
              "      <td>7</td>\n",
              "      <td>1</td>\n",
              "      <td>289</td>\n",
              "      <td>36</td>\n",
              "      <td>33</td>\n",
              "      <td>239.554</td>\n",
              "      <td>30</td>\n",
              "      <td>0</td>\n",
              "      <td>2</td>\n",
              "      <td>1</td>\n",
              "      <td>4</td>\n",
              "      <td>1</td>\n",
              "    </tr>\n",
              "    <tr>\n",
              "      <th>1</th>\n",
              "      <td>0</td>\n",
              "      <td>0</td>\n",
              "      <td>0</td>\n",
              "      <td>0</td>\n",
              "      <td>7</td>\n",
              "      <td>1</td>\n",
              "      <td>118</td>\n",
              "      <td>13</td>\n",
              "      <td>50</td>\n",
              "      <td>239.554</td>\n",
              "      <td>31</td>\n",
              "      <td>0</td>\n",
              "      <td>1</td>\n",
              "      <td>0</td>\n",
              "      <td>0</td>\n",
              "      <td>0</td>\n",
              "    </tr>\n",
              "    <tr>\n",
              "      <th>2</th>\n",
              "      <td>0</td>\n",
              "      <td>0</td>\n",
              "      <td>0</td>\n",
              "      <td>1</td>\n",
              "      <td>7</td>\n",
              "      <td>2</td>\n",
              "      <td>179</td>\n",
              "      <td>51</td>\n",
              "      <td>38</td>\n",
              "      <td>239.554</td>\n",
              "      <td>31</td>\n",
              "      <td>0</td>\n",
              "      <td>0</td>\n",
              "      <td>0</td>\n",
              "      <td>2</td>\n",
              "      <td>0</td>\n",
              "    </tr>\n",
              "    <tr>\n",
              "      <th>3</th>\n",
              "      <td>1</td>\n",
              "      <td>0</td>\n",
              "      <td>0</td>\n",
              "      <td>0</td>\n",
              "      <td>7</td>\n",
              "      <td>3</td>\n",
              "      <td>279</td>\n",
              "      <td>5</td>\n",
              "      <td>39</td>\n",
              "      <td>239.554</td>\n",
              "      <td>24</td>\n",
              "      <td>0</td>\n",
              "      <td>2</td>\n",
              "      <td>0</td>\n",
              "      <td>4</td>\n",
              "      <td>1</td>\n",
              "    </tr>\n",
              "    <tr>\n",
              "      <th>4</th>\n",
              "      <td>0</td>\n",
              "      <td>0</td>\n",
              "      <td>0</td>\n",
              "      <td>1</td>\n",
              "      <td>7</td>\n",
              "      <td>3</td>\n",
              "      <td>289</td>\n",
              "      <td>36</td>\n",
              "      <td>33</td>\n",
              "      <td>239.554</td>\n",
              "      <td>30</td>\n",
              "      <td>0</td>\n",
              "      <td>2</td>\n",
              "      <td>1</td>\n",
              "      <td>2</td>\n",
              "      <td>0</td>\n",
              "    </tr>\n",
              "  </tbody>\n",
              "</table>\n",
              "</div>"
            ],
            "text/plain": [
              "   Reason_1  Reason_2  ...  Absenteeism Time in Hours  Excessive Absenteeism\n",
              "0         0         0  ...                          4                      1\n",
              "1         0         0  ...                          0                      0\n",
              "2         0         0  ...                          2                      0\n",
              "3         1         0  ...                          4                      1\n",
              "4         0         0  ...                          2                      0\n",
              "\n",
              "[5 rows x 16 columns]"
            ]
          },
          "metadata": {
            "tags": []
          },
          "execution_count": 42
        }
      ]
    },
    {
      "cell_type": "code",
      "metadata": {
        "colab": {
          "base_uri": "https://localhost:8080/"
        },
        "id": "5k1dWYhTgm7n",
        "outputId": "3043097e-2bbe-4e4f-a9f6-b65348d02b1d"
      },
      "source": [
        "# check if dataset is balanced (what % of targets are 1s)\n",
        "# targets.sum() will give us the number of 1s that there are\n",
        "# the shape[0] will give us the length of the targets array\n",
        "targets.sum() / targets.shape[0]"
      ],
      "execution_count": null,
      "outputs": [
        {
          "output_type": "execute_result",
          "data": {
            "text/plain": [
              "0.45571428571428574"
            ]
          },
          "metadata": {
            "tags": []
          },
          "execution_count": 29
        }
      ]
    },
    {
      "cell_type": "code",
      "metadata": {
        "id": "46-JFBOTgp1d"
      },
      "source": [
        "# create a checkpoint by dropping the unnecessary variables\n",
        "# also drop the variables we 'eliminated' after exploring the weights\n",
        "data_with_targets = data_preprocessed.drop(['Age', 'Body Mass Index', 'Children', 'Pet', 'Education'],axis=1)"
      ],
      "execution_count": null,
      "outputs": []
    },
    {
      "cell_type": "code",
      "metadata": {
        "colab": {
          "base_uri": "https://localhost:8080/"
        },
        "id": "aV_yHEd-gxyF",
        "outputId": "0dbcd9d4-29ee-4c46-c314-5d64db58c749"
      },
      "source": [
        "# check if the line above is a checkpoint :)\n",
        "\n",
        "# if data_with_targets is data_preprocessed = True, then the two are pointing to the same object\n",
        "# if it is False, then the two variables are completely different and this is in fact a checkpoint\n",
        "data_with_targets is data_preprocessed"
      ],
      "execution_count": null,
      "outputs": [
        {
          "output_type": "execute_result",
          "data": {
            "text/plain": [
              "False"
            ]
          },
          "metadata": {
            "tags": []
          },
          "execution_count": 32
        }
      ]
    },
    {
      "cell_type": "code",
      "metadata": {
        "colab": {
          "base_uri": "https://localhost:8080/",
          "height": 219
        },
        "id": "_mpYnUHoiYv8",
        "outputId": "70dca8a3-36ef-4478-d040-746831e0fa5f"
      },
      "source": [
        "# check what's inside\n",
        "data_with_targets.head()"
      ],
      "execution_count": null,
      "outputs": [
        {
          "output_type": "execute_result",
          "data": {
            "text/html": [
              "<div>\n",
              "<style scoped>\n",
              "    .dataframe tbody tr th:only-of-type {\n",
              "        vertical-align: middle;\n",
              "    }\n",
              "\n",
              "    .dataframe tbody tr th {\n",
              "        vertical-align: top;\n",
              "    }\n",
              "\n",
              "    .dataframe thead th {\n",
              "        text-align: right;\n",
              "    }\n",
              "</style>\n",
              "<table border=\"1\" class=\"dataframe\">\n",
              "  <thead>\n",
              "    <tr style=\"text-align: right;\">\n",
              "      <th></th>\n",
              "      <th>Reason_1</th>\n",
              "      <th>Reason_2</th>\n",
              "      <th>Reason_3</th>\n",
              "      <th>Reason_4</th>\n",
              "      <th>Month Value</th>\n",
              "      <th>Day of the Week</th>\n",
              "      <th>Transportation Expense</th>\n",
              "      <th>Distance to Work</th>\n",
              "      <th>Daily Work Load Average</th>\n",
              "      <th>Absenteeism Time in Hours</th>\n",
              "      <th>Excessive Absenteeism</th>\n",
              "    </tr>\n",
              "  </thead>\n",
              "  <tbody>\n",
              "    <tr>\n",
              "      <th>0</th>\n",
              "      <td>0</td>\n",
              "      <td>0</td>\n",
              "      <td>0</td>\n",
              "      <td>1</td>\n",
              "      <td>7</td>\n",
              "      <td>1</td>\n",
              "      <td>289</td>\n",
              "      <td>36</td>\n",
              "      <td>239.554</td>\n",
              "      <td>4</td>\n",
              "      <td>1</td>\n",
              "    </tr>\n",
              "    <tr>\n",
              "      <th>1</th>\n",
              "      <td>0</td>\n",
              "      <td>0</td>\n",
              "      <td>0</td>\n",
              "      <td>0</td>\n",
              "      <td>7</td>\n",
              "      <td>1</td>\n",
              "      <td>118</td>\n",
              "      <td>13</td>\n",
              "      <td>239.554</td>\n",
              "      <td>0</td>\n",
              "      <td>0</td>\n",
              "    </tr>\n",
              "    <tr>\n",
              "      <th>2</th>\n",
              "      <td>0</td>\n",
              "      <td>0</td>\n",
              "      <td>0</td>\n",
              "      <td>1</td>\n",
              "      <td>7</td>\n",
              "      <td>2</td>\n",
              "      <td>179</td>\n",
              "      <td>51</td>\n",
              "      <td>239.554</td>\n",
              "      <td>2</td>\n",
              "      <td>0</td>\n",
              "    </tr>\n",
              "    <tr>\n",
              "      <th>3</th>\n",
              "      <td>1</td>\n",
              "      <td>0</td>\n",
              "      <td>0</td>\n",
              "      <td>0</td>\n",
              "      <td>7</td>\n",
              "      <td>3</td>\n",
              "      <td>279</td>\n",
              "      <td>5</td>\n",
              "      <td>239.554</td>\n",
              "      <td>4</td>\n",
              "      <td>1</td>\n",
              "    </tr>\n",
              "    <tr>\n",
              "      <th>4</th>\n",
              "      <td>0</td>\n",
              "      <td>0</td>\n",
              "      <td>0</td>\n",
              "      <td>1</td>\n",
              "      <td>7</td>\n",
              "      <td>3</td>\n",
              "      <td>289</td>\n",
              "      <td>36</td>\n",
              "      <td>239.554</td>\n",
              "      <td>2</td>\n",
              "      <td>0</td>\n",
              "    </tr>\n",
              "  </tbody>\n",
              "</table>\n",
              "</div>"
            ],
            "text/plain": [
              "   Reason_1  Reason_2  ...  Absenteeism Time in Hours  Excessive Absenteeism\n",
              "0         0         0  ...                          4                      1\n",
              "1         0         0  ...                          0                      0\n",
              "2         0         0  ...                          2                      0\n",
              "3         1         0  ...                          4                      1\n",
              "4         0         0  ...                          2                      0\n",
              "\n",
              "[5 rows x 11 columns]"
            ]
          },
          "metadata": {
            "tags": []
          },
          "execution_count": 43
        }
      ]
    },
    {
      "cell_type": "markdown",
      "metadata": {
        "id": "7USHtNCEnTK9"
      },
      "source": [
        "# Select the inputs for the regression"
      ]
    },
    {
      "cell_type": "code",
      "metadata": {
        "colab": {
          "base_uri": "https://localhost:8080/"
        },
        "id": "mVM0zssXnYT0",
        "outputId": "b7aa5609-fd5e-4218-b3f5-ee4fe02de685"
      },
      "source": [
        "data_with_targets.shape"
      ],
      "execution_count": null,
      "outputs": [
        {
          "output_type": "execute_result",
          "data": {
            "text/plain": [
              "(700, 11)"
            ]
          },
          "metadata": {
            "tags": []
          },
          "execution_count": 45
        }
      ]
    },
    {
      "cell_type": "code",
      "metadata": {
        "colab": {
          "base_uri": "https://localhost:8080/",
          "height": 433
        },
        "id": "w-mDzCtEnfa_",
        "outputId": "3582d1be-9cad-43fe-dc5e-84d38ba1234e"
      },
      "source": [
        "# Selects all rows and all columns until 14 (excluding)\n",
        "data_with_targets.iloc[:,:10]"
      ],
      "execution_count": null,
      "outputs": [
        {
          "output_type": "execute_result",
          "data": {
            "text/html": [
              "<div>\n",
              "<style scoped>\n",
              "    .dataframe tbody tr th:only-of-type {\n",
              "        vertical-align: middle;\n",
              "    }\n",
              "\n",
              "    .dataframe tbody tr th {\n",
              "        vertical-align: top;\n",
              "    }\n",
              "\n",
              "    .dataframe thead th {\n",
              "        text-align: right;\n",
              "    }\n",
              "</style>\n",
              "<table border=\"1\" class=\"dataframe\">\n",
              "  <thead>\n",
              "    <tr style=\"text-align: right;\">\n",
              "      <th></th>\n",
              "      <th>Reason_1</th>\n",
              "      <th>Reason_2</th>\n",
              "      <th>Reason_3</th>\n",
              "      <th>Reason_4</th>\n",
              "      <th>Month Value</th>\n",
              "      <th>Day of the Week</th>\n",
              "      <th>Transportation Expense</th>\n",
              "      <th>Distance to Work</th>\n",
              "      <th>Daily Work Load Average</th>\n",
              "      <th>Absenteeism Time in Hours</th>\n",
              "    </tr>\n",
              "  </thead>\n",
              "  <tbody>\n",
              "    <tr>\n",
              "      <th>0</th>\n",
              "      <td>0</td>\n",
              "      <td>0</td>\n",
              "      <td>0</td>\n",
              "      <td>1</td>\n",
              "      <td>7</td>\n",
              "      <td>1</td>\n",
              "      <td>289</td>\n",
              "      <td>36</td>\n",
              "      <td>239.554</td>\n",
              "      <td>4</td>\n",
              "    </tr>\n",
              "    <tr>\n",
              "      <th>1</th>\n",
              "      <td>0</td>\n",
              "      <td>0</td>\n",
              "      <td>0</td>\n",
              "      <td>0</td>\n",
              "      <td>7</td>\n",
              "      <td>1</td>\n",
              "      <td>118</td>\n",
              "      <td>13</td>\n",
              "      <td>239.554</td>\n",
              "      <td>0</td>\n",
              "    </tr>\n",
              "    <tr>\n",
              "      <th>2</th>\n",
              "      <td>0</td>\n",
              "      <td>0</td>\n",
              "      <td>0</td>\n",
              "      <td>1</td>\n",
              "      <td>7</td>\n",
              "      <td>2</td>\n",
              "      <td>179</td>\n",
              "      <td>51</td>\n",
              "      <td>239.554</td>\n",
              "      <td>2</td>\n",
              "    </tr>\n",
              "    <tr>\n",
              "      <th>3</th>\n",
              "      <td>1</td>\n",
              "      <td>0</td>\n",
              "      <td>0</td>\n",
              "      <td>0</td>\n",
              "      <td>7</td>\n",
              "      <td>3</td>\n",
              "      <td>279</td>\n",
              "      <td>5</td>\n",
              "      <td>239.554</td>\n",
              "      <td>4</td>\n",
              "    </tr>\n",
              "    <tr>\n",
              "      <th>4</th>\n",
              "      <td>0</td>\n",
              "      <td>0</td>\n",
              "      <td>0</td>\n",
              "      <td>1</td>\n",
              "      <td>7</td>\n",
              "      <td>3</td>\n",
              "      <td>289</td>\n",
              "      <td>36</td>\n",
              "      <td>239.554</td>\n",
              "      <td>2</td>\n",
              "    </tr>\n",
              "    <tr>\n",
              "      <th>...</th>\n",
              "      <td>...</td>\n",
              "      <td>...</td>\n",
              "      <td>...</td>\n",
              "      <td>...</td>\n",
              "      <td>...</td>\n",
              "      <td>...</td>\n",
              "      <td>...</td>\n",
              "      <td>...</td>\n",
              "      <td>...</td>\n",
              "      <td>...</td>\n",
              "    </tr>\n",
              "    <tr>\n",
              "      <th>695</th>\n",
              "      <td>1</td>\n",
              "      <td>0</td>\n",
              "      <td>0</td>\n",
              "      <td>0</td>\n",
              "      <td>5</td>\n",
              "      <td>2</td>\n",
              "      <td>179</td>\n",
              "      <td>22</td>\n",
              "      <td>237.656</td>\n",
              "      <td>8</td>\n",
              "    </tr>\n",
              "    <tr>\n",
              "      <th>696</th>\n",
              "      <td>1</td>\n",
              "      <td>0</td>\n",
              "      <td>0</td>\n",
              "      <td>0</td>\n",
              "      <td>5</td>\n",
              "      <td>2</td>\n",
              "      <td>225</td>\n",
              "      <td>26</td>\n",
              "      <td>237.656</td>\n",
              "      <td>3</td>\n",
              "    </tr>\n",
              "    <tr>\n",
              "      <th>697</th>\n",
              "      <td>1</td>\n",
              "      <td>0</td>\n",
              "      <td>0</td>\n",
              "      <td>0</td>\n",
              "      <td>5</td>\n",
              "      <td>3</td>\n",
              "      <td>330</td>\n",
              "      <td>16</td>\n",
              "      <td>237.656</td>\n",
              "      <td>8</td>\n",
              "    </tr>\n",
              "    <tr>\n",
              "      <th>698</th>\n",
              "      <td>0</td>\n",
              "      <td>0</td>\n",
              "      <td>0</td>\n",
              "      <td>1</td>\n",
              "      <td>5</td>\n",
              "      <td>3</td>\n",
              "      <td>235</td>\n",
              "      <td>16</td>\n",
              "      <td>237.656</td>\n",
              "      <td>2</td>\n",
              "    </tr>\n",
              "    <tr>\n",
              "      <th>699</th>\n",
              "      <td>0</td>\n",
              "      <td>0</td>\n",
              "      <td>0</td>\n",
              "      <td>1</td>\n",
              "      <td>5</td>\n",
              "      <td>3</td>\n",
              "      <td>291</td>\n",
              "      <td>31</td>\n",
              "      <td>237.656</td>\n",
              "      <td>2</td>\n",
              "    </tr>\n",
              "  </tbody>\n",
              "</table>\n",
              "<p>700 rows × 10 columns</p>\n",
              "</div>"
            ],
            "text/plain": [
              "     Reason_1  Reason_2  ...  Daily Work Load Average  Absenteeism Time in Hours\n",
              "0           0         0  ...                  239.554                          4\n",
              "1           0         0  ...                  239.554                          0\n",
              "2           0         0  ...                  239.554                          2\n",
              "3           1         0  ...                  239.554                          4\n",
              "4           0         0  ...                  239.554                          2\n",
              "..        ...       ...  ...                      ...                        ...\n",
              "695         1         0  ...                  237.656                          8\n",
              "696         1         0  ...                  237.656                          3\n",
              "697         1         0  ...                  237.656                          8\n",
              "698         0         0  ...                  237.656                          2\n",
              "699         0         0  ...                  237.656                          2\n",
              "\n",
              "[700 rows x 10 columns]"
            ]
          },
          "metadata": {
            "tags": []
          },
          "execution_count": 50
        }
      ]
    },
    {
      "cell_type": "code",
      "metadata": {
        "colab": {
          "base_uri": "https://localhost:8080/",
          "height": 433
        },
        "id": "YPs3BqK6nsyB",
        "outputId": "e9abc570-df59-4457-ed9f-a9d1e36ec027"
      },
      "source": [
        "# Selects all rows and all columns but the last one (basically the same operation)\n",
        "data_with_targets.iloc[:,:-1]"
      ],
      "execution_count": null,
      "outputs": [
        {
          "output_type": "execute_result",
          "data": {
            "text/html": [
              "<div>\n",
              "<style scoped>\n",
              "    .dataframe tbody tr th:only-of-type {\n",
              "        vertical-align: middle;\n",
              "    }\n",
              "\n",
              "    .dataframe tbody tr th {\n",
              "        vertical-align: top;\n",
              "    }\n",
              "\n",
              "    .dataframe thead th {\n",
              "        text-align: right;\n",
              "    }\n",
              "</style>\n",
              "<table border=\"1\" class=\"dataframe\">\n",
              "  <thead>\n",
              "    <tr style=\"text-align: right;\">\n",
              "      <th></th>\n",
              "      <th>Reason_1</th>\n",
              "      <th>Reason_2</th>\n",
              "      <th>Reason_3</th>\n",
              "      <th>Reason_4</th>\n",
              "      <th>Month Value</th>\n",
              "      <th>Day of the Week</th>\n",
              "      <th>Transportation Expense</th>\n",
              "      <th>Distance to Work</th>\n",
              "      <th>Daily Work Load Average</th>\n",
              "      <th>Absenteeism Time in Hours</th>\n",
              "    </tr>\n",
              "  </thead>\n",
              "  <tbody>\n",
              "    <tr>\n",
              "      <th>0</th>\n",
              "      <td>0</td>\n",
              "      <td>0</td>\n",
              "      <td>0</td>\n",
              "      <td>1</td>\n",
              "      <td>7</td>\n",
              "      <td>1</td>\n",
              "      <td>289</td>\n",
              "      <td>36</td>\n",
              "      <td>239.554</td>\n",
              "      <td>4</td>\n",
              "    </tr>\n",
              "    <tr>\n",
              "      <th>1</th>\n",
              "      <td>0</td>\n",
              "      <td>0</td>\n",
              "      <td>0</td>\n",
              "      <td>0</td>\n",
              "      <td>7</td>\n",
              "      <td>1</td>\n",
              "      <td>118</td>\n",
              "      <td>13</td>\n",
              "      <td>239.554</td>\n",
              "      <td>0</td>\n",
              "    </tr>\n",
              "    <tr>\n",
              "      <th>2</th>\n",
              "      <td>0</td>\n",
              "      <td>0</td>\n",
              "      <td>0</td>\n",
              "      <td>1</td>\n",
              "      <td>7</td>\n",
              "      <td>2</td>\n",
              "      <td>179</td>\n",
              "      <td>51</td>\n",
              "      <td>239.554</td>\n",
              "      <td>2</td>\n",
              "    </tr>\n",
              "    <tr>\n",
              "      <th>3</th>\n",
              "      <td>1</td>\n",
              "      <td>0</td>\n",
              "      <td>0</td>\n",
              "      <td>0</td>\n",
              "      <td>7</td>\n",
              "      <td>3</td>\n",
              "      <td>279</td>\n",
              "      <td>5</td>\n",
              "      <td>239.554</td>\n",
              "      <td>4</td>\n",
              "    </tr>\n",
              "    <tr>\n",
              "      <th>4</th>\n",
              "      <td>0</td>\n",
              "      <td>0</td>\n",
              "      <td>0</td>\n",
              "      <td>1</td>\n",
              "      <td>7</td>\n",
              "      <td>3</td>\n",
              "      <td>289</td>\n",
              "      <td>36</td>\n",
              "      <td>239.554</td>\n",
              "      <td>2</td>\n",
              "    </tr>\n",
              "    <tr>\n",
              "      <th>...</th>\n",
              "      <td>...</td>\n",
              "      <td>...</td>\n",
              "      <td>...</td>\n",
              "      <td>...</td>\n",
              "      <td>...</td>\n",
              "      <td>...</td>\n",
              "      <td>...</td>\n",
              "      <td>...</td>\n",
              "      <td>...</td>\n",
              "      <td>...</td>\n",
              "    </tr>\n",
              "    <tr>\n",
              "      <th>695</th>\n",
              "      <td>1</td>\n",
              "      <td>0</td>\n",
              "      <td>0</td>\n",
              "      <td>0</td>\n",
              "      <td>5</td>\n",
              "      <td>2</td>\n",
              "      <td>179</td>\n",
              "      <td>22</td>\n",
              "      <td>237.656</td>\n",
              "      <td>8</td>\n",
              "    </tr>\n",
              "    <tr>\n",
              "      <th>696</th>\n",
              "      <td>1</td>\n",
              "      <td>0</td>\n",
              "      <td>0</td>\n",
              "      <td>0</td>\n",
              "      <td>5</td>\n",
              "      <td>2</td>\n",
              "      <td>225</td>\n",
              "      <td>26</td>\n",
              "      <td>237.656</td>\n",
              "      <td>3</td>\n",
              "    </tr>\n",
              "    <tr>\n",
              "      <th>697</th>\n",
              "      <td>1</td>\n",
              "      <td>0</td>\n",
              "      <td>0</td>\n",
              "      <td>0</td>\n",
              "      <td>5</td>\n",
              "      <td>3</td>\n",
              "      <td>330</td>\n",
              "      <td>16</td>\n",
              "      <td>237.656</td>\n",
              "      <td>8</td>\n",
              "    </tr>\n",
              "    <tr>\n",
              "      <th>698</th>\n",
              "      <td>0</td>\n",
              "      <td>0</td>\n",
              "      <td>0</td>\n",
              "      <td>1</td>\n",
              "      <td>5</td>\n",
              "      <td>3</td>\n",
              "      <td>235</td>\n",
              "      <td>16</td>\n",
              "      <td>237.656</td>\n",
              "      <td>2</td>\n",
              "    </tr>\n",
              "    <tr>\n",
              "      <th>699</th>\n",
              "      <td>0</td>\n",
              "      <td>0</td>\n",
              "      <td>0</td>\n",
              "      <td>1</td>\n",
              "      <td>5</td>\n",
              "      <td>3</td>\n",
              "      <td>291</td>\n",
              "      <td>31</td>\n",
              "      <td>237.656</td>\n",
              "      <td>2</td>\n",
              "    </tr>\n",
              "  </tbody>\n",
              "</table>\n",
              "<p>700 rows × 10 columns</p>\n",
              "</div>"
            ],
            "text/plain": [
              "     Reason_1  Reason_2  ...  Daily Work Load Average  Absenteeism Time in Hours\n",
              "0           0         0  ...                  239.554                          4\n",
              "1           0         0  ...                  239.554                          0\n",
              "2           0         0  ...                  239.554                          2\n",
              "3           1         0  ...                  239.554                          4\n",
              "4           0         0  ...                  239.554                          2\n",
              "..        ...       ...  ...                      ...                        ...\n",
              "695         1         0  ...                  237.656                          8\n",
              "696         1         0  ...                  237.656                          3\n",
              "697         1         0  ...                  237.656                          8\n",
              "698         0         0  ...                  237.656                          2\n",
              "699         0         0  ...                  237.656                          2\n",
              "\n",
              "[700 rows x 10 columns]"
            ]
          },
          "metadata": {
            "tags": []
          },
          "execution_count": 51
        }
      ]
    },
    {
      "cell_type": "code",
      "metadata": {
        "id": "EOXTlTq5n6mf"
      },
      "source": [
        "# Create a variable that will contain the inputs (everything without the targets)\n",
        "unscaled_inputs = data_with_targets.iloc[:,:-1]"
      ],
      "execution_count": null,
      "outputs": []
    },
    {
      "cell_type": "markdown",
      "metadata": {
        "id": "Coehh4X9n8oQ"
      },
      "source": [
        "# Standardize the data"
      ]
    },
    {
      "cell_type": "code",
      "metadata": {
        "id": "tI6YECMtn_9z"
      },
      "source": [
        "# standardize the inputs\n",
        "\n",
        "from sklearn.preprocessing import StandardScaler\n",
        "\n",
        "# define scaler as an object\n",
        "absenteeism_scaler = StandardScaler()"
      ],
      "execution_count": null,
      "outputs": []
    },
    {
      "cell_type": "code",
      "metadata": {
        "id": "OE4FvApHoVyJ"
      },
      "source": [
        "# import the libraries needed to create the Custom Scaler\n",
        "from sklearn.base import BaseEstimator, TransformerMixin\n",
        "from sklearn.preprocessing import StandardScaler\n",
        "\n",
        "# create the Custom Scaler class\n",
        "\n",
        "class CustomScaler(BaseEstimator,TransformerMixin): \n",
        "    \n",
        "    def __init__(self,columns,copy=True,with_mean=True,with_std=True):\n",
        "        \n",
        "        # scaler is nothing but a Standard Scaler object\n",
        "        self.scaler = StandardScaler(copy,with_mean,with_std)\n",
        "        # with some columns 'twist'\n",
        "        self.columns = columns\n",
        "        self.mean_ = None\n",
        "        self.var_ = None\n",
        "        \n",
        "    \n",
        "    # the fit method based on StandardScale\n",
        "    \n",
        "    def fit(self, X, y=None):\n",
        "        self.scaler.fit(X[self.columns], y)\n",
        "        self.mean_ = np.mean(X[self.columns])\n",
        "        self.var_ = np.var(X[self.columns])\n",
        "        return self\n",
        "    \n",
        "    # the transform method for actual scaling\n",
        "\n",
        "    def transform(self, X, y=None, copy=None):\n",
        "        \n",
        "        # record the initial order of the columns\n",
        "        init_col_order = X.columns\n",
        "        \n",
        "        # scale all features that you chose when creating the instance of the class\n",
        "        X_scaled = pd.DataFrame(self.scaler.transform(X[self.columns]), columns=self.columns)\n",
        "        \n",
        "        # declare a variable containing all information that was not scaled\n",
        "        X_not_scaled = X.loc[:,~X.columns.isin(self.columns)]\n",
        "        \n",
        "        # return a data frame which contains all scaled features and all 'not scaled' features\n",
        "        return pd.concat([X_not_scaled, X_scaled], axis=1)[init_col_order]"
      ],
      "execution_count": null,
      "outputs": []
    },
    {
      "cell_type": "code",
      "metadata": {
        "colab": {
          "base_uri": "https://localhost:8080/"
        },
        "id": "X7aSxdzxo67V",
        "outputId": "cb77804c-c941-4e31-8407-5d0835965145"
      },
      "source": [
        "# check what are all columns that we've got\n",
        "unscaled_inputs.columns.values"
      ],
      "execution_count": null,
      "outputs": [
        {
          "output_type": "execute_result",
          "data": {
            "text/plain": [
              "array(['Reason_1', 'Reason_2', 'Reason_3', 'Reason_4', 'Month Value',\n",
              "       'Day of the Week', 'Transportation Expense', 'Distance to Work',\n",
              "       'Daily Work Load Average', 'Absenteeism Time in Hours'],\n",
              "      dtype=object)"
            ]
          },
          "metadata": {
            "tags": []
          },
          "execution_count": 55
        }
      ]
    },
    {
      "cell_type": "code",
      "metadata": {
        "id": "kz64xdEipB17"
      },
      "source": [
        "# choose the columns to scale\n",
        "# we later augmented this code and put it in comments\n",
        "# columns_to_scale = ['Month Value','Day of the Week', 'Transportation Expense', 'Distance to Work',\n",
        "       #'Age', 'Daily Work Load Average', 'Body Mass Index', 'Children', 'Pet']\n",
        "    \n",
        "# select the columns to omit\n",
        "columns_to_omit = ['Reason_1', 'Reason_2', 'Reason_3', 'Reason_4']"
      ],
      "execution_count": null,
      "outputs": []
    },
    {
      "cell_type": "code",
      "metadata": {
        "id": "mz-zGbcnpRhT"
      },
      "source": [
        "# create the columns to scale, based on the columns to omit\n",
        "# use list comprehension to iterate over the list\n",
        "columns_to_scale = [x for x in unscaled_inputs.columns.values if x not in columns_to_omit]"
      ],
      "execution_count": null,
      "outputs": []
    },
    {
      "cell_type": "code",
      "metadata": {
        "id": "Lr3rZf6ZpUkh"
      },
      "source": [
        "# declare a scaler object, specifying the columns you want to scale\n",
        "absenteeism_scaler = CustomScaler(columns_to_scale)"
      ],
      "execution_count": null,
      "outputs": []
    },
    {
      "cell_type": "code",
      "metadata": {
        "colab": {
          "base_uri": "https://localhost:8080/"
        },
        "id": "EciPXYwLpYCj",
        "outputId": "6761e825-4f66-4626-dad4-b62dc151e02b"
      },
      "source": [
        "# fit the data (calculate mean and standard deviation); they are automatically stored inside the object \n",
        "absenteeism_scaler.fit(unscaled_inputs)"
      ],
      "execution_count": null,
      "outputs": [
        {
          "output_type": "stream",
          "text": [
            "/usr/local/lib/python3.7/dist-packages/sklearn/base.py:197: FutureWarning: From version 0.24, get_params will raise an AttributeError if a parameter cannot be retrieved as an instance attribute. Previously it would return None.\n",
            "  FutureWarning)\n"
          ],
          "name": "stderr"
        },
        {
          "output_type": "execute_result",
          "data": {
            "text/plain": [
              "CustomScaler(columns=['Month Value', 'Day of the Week',\n",
              "                      'Transportation Expense', 'Distance to Work',\n",
              "                      'Daily Work Load Average', 'Absenteeism Time in Hours'],\n",
              "             copy=None, with_mean=None, with_std=None)"
            ]
          },
          "metadata": {
            "tags": []
          },
          "execution_count": 60
        }
      ]
    },
    {
      "cell_type": "code",
      "metadata": {
        "id": "XDi8SG7wpj_n"
      },
      "source": [
        "# standardizes the data, using the transform method \n",
        "scaled_inputs = absenteeism_scaler.transform(unscaled_inputs)"
      ],
      "execution_count": null,
      "outputs": []
    },
    {
      "cell_type": "code",
      "metadata": {
        "colab": {
          "base_uri": "https://localhost:8080/",
          "height": 433
        },
        "id": "epWpmN3Kp0gx",
        "outputId": "52e256ec-29aa-4d43-fca6-ca186f5b37e5"
      },
      "source": [
        "# the scaled_inputs are now an ndarray, because sklearn works with ndarrays\n",
        "scaled_inputs"
      ],
      "execution_count": null,
      "outputs": [
        {
          "output_type": "execute_result",
          "data": {
            "text/html": [
              "<div>\n",
              "<style scoped>\n",
              "    .dataframe tbody tr th:only-of-type {\n",
              "        vertical-align: middle;\n",
              "    }\n",
              "\n",
              "    .dataframe tbody tr th {\n",
              "        vertical-align: top;\n",
              "    }\n",
              "\n",
              "    .dataframe thead th {\n",
              "        text-align: right;\n",
              "    }\n",
              "</style>\n",
              "<table border=\"1\" class=\"dataframe\">\n",
              "  <thead>\n",
              "    <tr style=\"text-align: right;\">\n",
              "      <th></th>\n",
              "      <th>Reason_1</th>\n",
              "      <th>Reason_2</th>\n",
              "      <th>Reason_3</th>\n",
              "      <th>Reason_4</th>\n",
              "      <th>Month Value</th>\n",
              "      <th>Day of the Week</th>\n",
              "      <th>Transportation Expense</th>\n",
              "      <th>Distance to Work</th>\n",
              "      <th>Daily Work Load Average</th>\n",
              "      <th>Absenteeism Time in Hours</th>\n",
              "    </tr>\n",
              "  </thead>\n",
              "  <tbody>\n",
              "    <tr>\n",
              "      <th>0</th>\n",
              "      <td>0</td>\n",
              "      <td>0</td>\n",
              "      <td>0</td>\n",
              "      <td>1</td>\n",
              "      <td>0.030796</td>\n",
              "      <td>-0.800950</td>\n",
              "      <td>1.005844</td>\n",
              "      <td>0.412816</td>\n",
              "      <td>-0.806331</td>\n",
              "      <td>-0.218105</td>\n",
              "    </tr>\n",
              "    <tr>\n",
              "      <th>1</th>\n",
              "      <td>0</td>\n",
              "      <td>0</td>\n",
              "      <td>0</td>\n",
              "      <td>0</td>\n",
              "      <td>0.030796</td>\n",
              "      <td>-0.800950</td>\n",
              "      <td>-1.574681</td>\n",
              "      <td>-1.141882</td>\n",
              "      <td>-0.806331</td>\n",
              "      <td>-0.534035</td>\n",
              "    </tr>\n",
              "    <tr>\n",
              "      <th>2</th>\n",
              "      <td>0</td>\n",
              "      <td>0</td>\n",
              "      <td>0</td>\n",
              "      <td>1</td>\n",
              "      <td>0.030796</td>\n",
              "      <td>-0.232900</td>\n",
              "      <td>-0.654143</td>\n",
              "      <td>1.426749</td>\n",
              "      <td>-0.806331</td>\n",
              "      <td>-0.376070</td>\n",
              "    </tr>\n",
              "    <tr>\n",
              "      <th>3</th>\n",
              "      <td>1</td>\n",
              "      <td>0</td>\n",
              "      <td>0</td>\n",
              "      <td>0</td>\n",
              "      <td>0.030796</td>\n",
              "      <td>0.335149</td>\n",
              "      <td>0.854936</td>\n",
              "      <td>-1.682647</td>\n",
              "      <td>-0.806331</td>\n",
              "      <td>-0.218105</td>\n",
              "    </tr>\n",
              "    <tr>\n",
              "      <th>4</th>\n",
              "      <td>0</td>\n",
              "      <td>0</td>\n",
              "      <td>0</td>\n",
              "      <td>1</td>\n",
              "      <td>0.030796</td>\n",
              "      <td>0.335149</td>\n",
              "      <td>1.005844</td>\n",
              "      <td>0.412816</td>\n",
              "      <td>-0.806331</td>\n",
              "      <td>-0.376070</td>\n",
              "    </tr>\n",
              "    <tr>\n",
              "      <th>...</th>\n",
              "      <td>...</td>\n",
              "      <td>...</td>\n",
              "      <td>...</td>\n",
              "      <td>...</td>\n",
              "      <td>...</td>\n",
              "      <td>...</td>\n",
              "      <td>...</td>\n",
              "      <td>...</td>\n",
              "      <td>...</td>\n",
              "      <td>...</td>\n",
              "    </tr>\n",
              "    <tr>\n",
              "      <th>695</th>\n",
              "      <td>1</td>\n",
              "      <td>0</td>\n",
              "      <td>0</td>\n",
              "      <td>0</td>\n",
              "      <td>-0.568019</td>\n",
              "      <td>-0.232900</td>\n",
              "      <td>-0.654143</td>\n",
              "      <td>-0.533522</td>\n",
              "      <td>-0.853789</td>\n",
              "      <td>0.097825</td>\n",
              "    </tr>\n",
              "    <tr>\n",
              "      <th>696</th>\n",
              "      <td>1</td>\n",
              "      <td>0</td>\n",
              "      <td>0</td>\n",
              "      <td>0</td>\n",
              "      <td>-0.568019</td>\n",
              "      <td>-0.232900</td>\n",
              "      <td>0.040034</td>\n",
              "      <td>-0.263140</td>\n",
              "      <td>-0.853789</td>\n",
              "      <td>-0.297087</td>\n",
              "    </tr>\n",
              "    <tr>\n",
              "      <th>697</th>\n",
              "      <td>1</td>\n",
              "      <td>0</td>\n",
              "      <td>0</td>\n",
              "      <td>0</td>\n",
              "      <td>-0.568019</td>\n",
              "      <td>0.335149</td>\n",
              "      <td>1.624567</td>\n",
              "      <td>-0.939096</td>\n",
              "      <td>-0.853789</td>\n",
              "      <td>0.097825</td>\n",
              "    </tr>\n",
              "    <tr>\n",
              "      <th>698</th>\n",
              "      <td>0</td>\n",
              "      <td>0</td>\n",
              "      <td>0</td>\n",
              "      <td>1</td>\n",
              "      <td>-0.568019</td>\n",
              "      <td>0.335149</td>\n",
              "      <td>0.190942</td>\n",
              "      <td>-0.939096</td>\n",
              "      <td>-0.853789</td>\n",
              "      <td>-0.376070</td>\n",
              "    </tr>\n",
              "    <tr>\n",
              "      <th>699</th>\n",
              "      <td>0</td>\n",
              "      <td>0</td>\n",
              "      <td>0</td>\n",
              "      <td>1</td>\n",
              "      <td>-0.568019</td>\n",
              "      <td>0.335149</td>\n",
              "      <td>1.036026</td>\n",
              "      <td>0.074838</td>\n",
              "      <td>-0.853789</td>\n",
              "      <td>-0.376070</td>\n",
              "    </tr>\n",
              "  </tbody>\n",
              "</table>\n",
              "<p>700 rows × 10 columns</p>\n",
              "</div>"
            ],
            "text/plain": [
              "     Reason_1  Reason_2  ...  Daily Work Load Average  Absenteeism Time in Hours\n",
              "0           0         0  ...                -0.806331                  -0.218105\n",
              "1           0         0  ...                -0.806331                  -0.534035\n",
              "2           0         0  ...                -0.806331                  -0.376070\n",
              "3           1         0  ...                -0.806331                  -0.218105\n",
              "4           0         0  ...                -0.806331                  -0.376070\n",
              "..        ...       ...  ...                      ...                        ...\n",
              "695         1         0  ...                -0.853789                   0.097825\n",
              "696         1         0  ...                -0.853789                  -0.297087\n",
              "697         1         0  ...                -0.853789                   0.097825\n",
              "698         0         0  ...                -0.853789                  -0.376070\n",
              "699         0         0  ...                -0.853789                  -0.376070\n",
              "\n",
              "[700 rows x 10 columns]"
            ]
          },
          "metadata": {
            "tags": []
          },
          "execution_count": 63
        }
      ]
    },
    {
      "cell_type": "code",
      "metadata": {
        "colab": {
          "base_uri": "https://localhost:8080/"
        },
        "id": "yhZhJrD2p7YK",
        "outputId": "5da54b3c-8ddb-42f5-c2f8-dcc9af541cb6"
      },
      "source": [
        "# check the shape of the inputs\n",
        "scaled_inputs.shape"
      ],
      "execution_count": null,
      "outputs": [
        {
          "output_type": "execute_result",
          "data": {
            "text/plain": [
              "(700, 10)"
            ]
          },
          "metadata": {
            "tags": []
          },
          "execution_count": 64
        }
      ]
    },
    {
      "cell_type": "markdown",
      "metadata": {
        "id": "JbLpTWCeqLYF"
      },
      "source": [
        "# Split the data for Train and Test stage"
      ]
    },
    {
      "cell_type": "code",
      "metadata": {
        "id": "OS_Rn7JqqNna"
      },
      "source": [
        "# import train_test_split so we can split our data into train and test\n",
        "from sklearn.model_selection import train_test_split"
      ],
      "execution_count": null,
      "outputs": []
    },
    {
      "cell_type": "code",
      "metadata": {
        "colab": {
          "base_uri": "https://localhost:8080/"
        },
        "id": "g-Eu0jYWqR7n",
        "outputId": "3c5b01f9-4f62-4844-fdb0-da6b1dff56ba"
      },
      "source": [
        "# check how this method works\n",
        "train_test_split(scaled_inputs, targets)"
      ],
      "execution_count": null,
      "outputs": [
        {
          "output_type": "execute_result",
          "data": {
            "text/plain": [
              "[     Reason_1  Reason_2  ...  Daily Work Load Average  Absenteeism Time in Hours\n",
              " 564         0         0  ...                 0.218718                   0.097825\n",
              " 399         0         0  ...                -0.685486                   0.097825\n",
              " 282         0         0  ...                 0.560476                  -0.218105\n",
              " 585         1         0  ...                -0.188851                   0.097825\n",
              " 699         0         0  ...                -0.853789                  -0.376070\n",
              " ..        ...       ...  ...                      ...                        ...\n",
              " 409         0         0  ...                -0.685486                   0.097825\n",
              " 56          0         0  ...                -0.758273                  -0.297087\n",
              " 29          0         0  ...                -1.647399                  -0.376070\n",
              " 266         0         0  ...                -0.154696                  -0.455052\n",
              " 62          0         0  ...                -0.458497                  -0.297087\n",
              " \n",
              " [525 rows x 10 columns],\n",
              "      Reason_1  Reason_2  ...  Daily Work Load Average  Absenteeism Time in Hours\n",
              " 278         1         0  ...                 0.560476                   0.097825\n",
              " 665         0         0  ...                -0.637953                   0.097825\n",
              " 156         0         0  ...                 1.786584                   0.097825\n",
              " 213         0         0  ...                 2.677510                  -0.534035\n",
              " 78          0         0  ...                -0.458497                  -0.455052\n",
              " ..        ...       ...  ...                      ...                        ...\n",
              " 100         0         0  ...                -0.262439                  -0.376070\n",
              " 179         1         0  ...                 1.786584                  -0.297087\n",
              " 559         0         0  ...                 0.218718                  -0.297087\n",
              " 649         0         0  ...                -1.240355                  -0.297087\n",
              " 571         1         0  ...                 1.043433                   0.729686\n",
              " \n",
              " [175 rows x 10 columns],\n",
              " array([1, 1, 1, 1, 0, 0, 0, 0, 0, 0, 0, 1, 1, 1, 1, 0, 1, 0, 0, 0, 1, 0,\n",
              "        1, 1, 0, 0, 0, 0, 0, 1, 1, 0, 1, 0, 0, 0, 1, 1, 1, 1, 1, 1, 0, 1,\n",
              "        0, 0, 1, 0, 0, 1, 0, 0, 0, 1, 1, 1, 1, 1, 0, 0, 0, 0, 0, 0, 0, 0,\n",
              "        1, 0, 1, 0, 0, 1, 1, 0, 0, 0, 0, 0, 0, 1, 1, 1, 0, 1, 0, 0, 1, 1,\n",
              "        1, 0, 0, 1, 1, 0, 0, 0, 0, 0, 0, 1, 0, 1, 0, 1, 0, 1, 0, 1, 1, 0,\n",
              "        0, 0, 0, 0, 1, 1, 1, 0, 0, 0, 0, 1, 1, 1, 1, 0, 0, 0, 1, 0, 1, 0,\n",
              "        0, 1, 0, 0, 0, 0, 0, 0, 1, 1, 1, 0, 0, 1, 1, 0, 0, 1, 0, 1, 0, 0,\n",
              "        1, 1, 1, 1, 1, 1, 1, 1, 0, 0, 1, 1, 0, 0, 0, 0, 1, 1, 0, 1, 0, 1,\n",
              "        0, 0, 0, 0, 1, 1, 0, 1, 1, 1, 0, 0, 1, 0, 0, 0, 1, 1, 1, 1, 1, 0,\n",
              "        0, 1, 0, 0, 1, 0, 0, 0, 0, 0, 0, 1, 1, 1, 0, 0, 0, 0, 0, 0, 0, 1,\n",
              "        0, 0, 0, 0, 0, 1, 1, 0, 1, 1, 1, 1, 0, 0, 1, 1, 1, 0, 0, 1, 0, 1,\n",
              "        0, 1, 1, 0, 0, 0, 0, 0, 1, 0, 1, 0, 0, 1, 0, 1, 0, 0, 0, 0, 1, 1,\n",
              "        1, 0, 1, 1, 0, 0, 1, 1, 0, 0, 1, 1, 0, 1, 1, 0, 1, 0, 0, 0, 0, 1,\n",
              "        1, 0, 1, 0, 0, 0, 0, 1, 0, 1, 1, 1, 0, 0, 0, 0, 0, 1, 1, 0, 0, 1,\n",
              "        1, 1, 0, 1, 1, 1, 1, 0, 0, 1, 1, 0, 1, 0, 1, 1, 0, 1, 0, 1, 1, 0,\n",
              "        0, 0, 0, 1, 0, 1, 1, 1, 1, 1, 0, 0, 0, 1, 0, 1, 0, 1, 0, 0, 1, 0,\n",
              "        0, 0, 1, 0, 0, 1, 0, 1, 0, 1, 0, 0, 1, 1, 1, 0, 0, 0, 1, 0, 1, 1,\n",
              "        1, 1, 0, 0, 0, 0, 0, 0, 0, 0, 1, 1, 1, 1, 1, 0, 0, 1, 1, 1, 0, 1,\n",
              "        0, 1, 1, 0, 1, 1, 0, 0, 1, 0, 1, 1, 1, 0, 1, 0, 1, 1, 0, 1, 0, 0,\n",
              "        0, 0, 1, 0, 0, 0, 1, 1, 0, 0, 0, 1, 0, 0, 1, 1, 0, 0, 0, 0, 1, 0,\n",
              "        1, 0, 0, 0, 0, 1, 0, 0, 1, 0, 0, 1, 1, 1, 0, 0, 1, 0, 0, 0, 0, 1,\n",
              "        0, 1, 1, 0, 1, 0, 0, 1, 1, 0, 0, 0, 0, 1, 0, 0, 0, 1, 0, 0, 0, 1,\n",
              "        1, 1, 1, 0, 1, 0, 0, 0, 0, 1, 0, 0, 0, 1, 0, 1, 1, 0, 1, 1, 1, 0,\n",
              "        0, 0, 0, 1, 1, 1, 0, 1, 1, 1, 1, 0, 1, 0, 1, 0, 0, 0, 0]),\n",
              " array([1, 1, 1, 0, 0, 1, 0, 0, 0, 0, 1, 0, 1, 0, 1, 0, 1, 0, 1, 1, 0, 1,\n",
              "        1, 0, 1, 0, 0, 1, 1, 1, 0, 1, 0, 0, 0, 0, 0, 0, 1, 0, 0, 0, 0, 0,\n",
              "        0, 1, 1, 1, 1, 1, 0, 1, 0, 0, 0, 1, 0, 1, 0, 0, 1, 0, 0, 0, 1, 0,\n",
              "        0, 1, 0, 0, 0, 1, 0, 1, 0, 0, 0, 1, 1, 0, 1, 0, 0, 1, 0, 0, 0, 1,\n",
              "        1, 0, 0, 1, 0, 0, 1, 1, 0, 0, 0, 1, 1, 1, 1, 0, 1, 1, 1, 1, 1, 1,\n",
              "        1, 1, 1, 0, 0, 1, 0, 0, 0, 1, 1, 1, 1, 0, 1, 0, 0, 0, 1, 1, 0, 0,\n",
              "        0, 1, 0, 0, 0, 0, 1, 1, 0, 1, 1, 1, 1, 1, 0, 1, 0, 0, 1, 1, 0, 1,\n",
              "        1, 1, 1, 1, 1, 1, 1, 0, 1, 1, 0, 0, 0, 0, 0, 1, 0, 0, 0, 0, 1])]"
            ]
          },
          "metadata": {
            "tags": []
          },
          "execution_count": 66
        }
      ]
    },
    {
      "cell_type": "code",
      "metadata": {
        "id": "z-vZkX0ZqbfB"
      },
      "source": [
        "# declare 4 variables for the split\n",
        "x_train, x_test, y_train, y_test = train_test_split(scaled_inputs, targets, #train_size = 0.8, \n",
        "                                                                            test_size = 0.2, random_state = 20)"
      ],
      "execution_count": null,
      "outputs": []
    },
    {
      "cell_type": "code",
      "metadata": {
        "colab": {
          "base_uri": "https://localhost:8080/"
        },
        "id": "uaUblZI2qeWJ",
        "outputId": "8fbbec8f-5725-40c9-a039-080203e406ea"
      },
      "source": [
        "# check the shape of the train inputs and targets\n",
        "print (x_train.shape, y_train.shape)"
      ],
      "execution_count": null,
      "outputs": [
        {
          "output_type": "stream",
          "text": [
            "(560, 10) (560,)\n"
          ],
          "name": "stdout"
        }
      ]
    },
    {
      "cell_type": "code",
      "metadata": {
        "colab": {
          "base_uri": "https://localhost:8080/"
        },
        "id": "o5bj-XUIqjdx",
        "outputId": "0bd00f22-1fed-498b-fd3d-6c8f24b242c9"
      },
      "source": [
        "# check the shape of the test inputs and targets\n",
        "print (x_test.shape, y_test.shape)"
      ],
      "execution_count": null,
      "outputs": [
        {
          "output_type": "stream",
          "text": [
            "(140, 10) (140,)\n"
          ],
          "name": "stdout"
        }
      ]
    },
    {
      "cell_type": "markdown",
      "metadata": {
        "id": "q1OGWPCOrDL6"
      },
      "source": [
        "# Apply Logical regression and train the model"
      ]
    },
    {
      "cell_type": "code",
      "metadata": {
        "id": "DUg21-tHrJzO"
      },
      "source": [
        "# import the LogReg model from sklearn\n",
        "from sklearn.linear_model import LogisticRegression\n",
        "\n",
        "# import the 'metrics' module, which includes important metrics we may want to use\n",
        "from sklearn import metrics"
      ],
      "execution_count": null,
      "outputs": []
    },
    {
      "cell_type": "code",
      "metadata": {
        "id": "MXKlp3gUrOxv"
      },
      "source": [
        "# create a logistic regression object\n",
        "reg = LogisticRegression()"
      ],
      "execution_count": null,
      "outputs": []
    },
    {
      "cell_type": "code",
      "metadata": {
        "colab": {
          "base_uri": "https://localhost:8080/"
        },
        "id": "N3ElZ3odrRej",
        "outputId": "5a90b32d-c648-44e3-f5a4-4e2641bdcffb"
      },
      "source": [
        "# fit our train inputs\n",
        "# that is basically the whole training part of the machine learning\n",
        "reg.fit(x_train,y_train)"
      ],
      "execution_count": null,
      "outputs": [
        {
          "output_type": "execute_result",
          "data": {
            "text/plain": [
              "LogisticRegression(C=1.0, class_weight=None, dual=False, fit_intercept=True,\n",
              "                   intercept_scaling=1, l1_ratio=None, max_iter=100,\n",
              "                   multi_class='auto', n_jobs=None, penalty='l2',\n",
              "                   random_state=None, solver='lbfgs', tol=0.0001, verbose=0,\n",
              "                   warm_start=False)"
            ]
          },
          "metadata": {
            "tags": []
          },
          "execution_count": 73
        }
      ]
    },
    {
      "cell_type": "code",
      "metadata": {
        "colab": {
          "base_uri": "https://localhost:8080/"
        },
        "id": "EdgKTkhBrVTG",
        "outputId": "12dab755-690c-493d-e5a8-d45f163153ea"
      },
      "source": [
        "# assess the train accuracy of the model\n",
        "reg.score(x_train,y_train)"
      ],
      "execution_count": null,
      "outputs": [
        {
          "output_type": "execute_result",
          "data": {
            "text/plain": [
              "0.9321428571428572"
            ]
          },
          "metadata": {
            "tags": []
          },
          "execution_count": 74
        }
      ]
    },
    {
      "cell_type": "markdown",
      "metadata": {
        "id": "3gcYXBvBrd6E"
      },
      "source": [
        "# Evaluate the Accuracy"
      ]
    },
    {
      "cell_type": "code",
      "metadata": {
        "colab": {
          "base_uri": "https://localhost:8080/"
        },
        "id": "GtD8_TNwrh-P",
        "outputId": "b53c6465-9748-4580-d3e1-edc85912aae5"
      },
      "source": [
        "# find the model outputs according to our model\n",
        "model_outputs = reg.predict(x_train)\n",
        "model_outputs"
      ],
      "execution_count": null,
      "outputs": [
        {
          "output_type": "execute_result",
          "data": {
            "text/plain": [
              "array([0, 1, 1, 1, 1, 0, 0, 1, 0, 1, 0, 1, 1, 0, 0, 0, 0, 0, 1, 1, 0, 0,\n",
              "       1, 1, 0, 0, 0, 0, 1, 0, 0, 0, 0, 1, 0, 0, 0, 0, 1, 1, 1, 0, 1, 1,\n",
              "       1, 0, 0, 0, 1, 1, 1, 1, 0, 0, 0, 1, 1, 0, 0, 0, 0, 0, 1, 0, 0, 0,\n",
              "       0, 0, 0, 1, 0, 0, 1, 0, 0, 0, 1, 0, 0, 1, 1, 0, 0, 1, 0, 1, 0, 0,\n",
              "       0, 1, 0, 0, 0, 0, 0, 0, 0, 0, 0, 0, 1, 1, 1, 0, 1, 1, 0, 0, 1, 0,\n",
              "       0, 1, 0, 1, 1, 0, 0, 1, 1, 1, 1, 1, 0, 0, 0, 1, 0, 1, 0, 0, 1, 0,\n",
              "       0, 0, 0, 0, 0, 0, 0, 0, 0, 0, 1, 0, 1, 1, 0, 0, 0, 1, 0, 0, 0, 1,\n",
              "       0, 1, 0, 0, 0, 1, 1, 0, 1, 0, 0, 0, 1, 1, 1, 0, 0, 0, 0, 0, 1, 0,\n",
              "       0, 0, 0, 0, 1, 0, 0, 1, 1, 1, 0, 1, 0, 0, 0, 1, 1, 0, 0, 0, 0, 1,\n",
              "       1, 0, 0, 1, 1, 1, 0, 0, 0, 0, 0, 0, 1, 1, 1, 0, 0, 1, 0, 1, 0, 0,\n",
              "       1, 0, 0, 0, 0, 0, 1, 0, 1, 0, 0, 1, 0, 1, 0, 0, 1, 1, 0, 0, 0, 0,\n",
              "       0, 0, 1, 0, 1, 0, 1, 0, 1, 0, 1, 0, 1, 0, 1, 1, 1, 1, 1, 1, 0, 0,\n",
              "       0, 0, 0, 0, 0, 0, 0, 1, 0, 0, 1, 0, 1, 0, 0, 0, 0, 0, 1, 0, 0, 0,\n",
              "       0, 0, 1, 0, 0, 0, 0, 1, 0, 0, 0, 0, 1, 1, 0, 0, 0, 1, 0, 1, 0, 0,\n",
              "       0, 1, 0, 1, 1, 0, 1, 0, 1, 1, 0, 0, 1, 0, 1, 0, 0, 1, 0, 0, 1, 1,\n",
              "       1, 0, 0, 0, 0, 1, 1, 1, 0, 0, 0, 1, 0, 1, 0, 1, 1, 1, 0, 0, 0, 1,\n",
              "       0, 0, 1, 0, 1, 0, 0, 0, 0, 0, 1, 0, 1, 0, 0, 0, 0, 1, 1, 1, 0, 0,\n",
              "       1, 0, 1, 1, 0, 0, 1, 0, 0, 1, 0, 0, 1, 1, 1, 1, 1, 1, 1, 0, 1, 0,\n",
              "       0, 0, 0, 0, 0, 0, 1, 0, 1, 1, 0, 1, 0, 0, 0, 1, 1, 0, 0, 1, 1, 1,\n",
              "       0, 1, 0, 1, 0, 0, 1, 0, 0, 0, 0, 0, 1, 0, 1, 1, 1, 0, 0, 0, 0, 0,\n",
              "       0, 0, 0, 1, 0, 0, 0, 0, 0, 1, 0, 1, 1, 0, 0, 0, 0, 0, 0, 0, 1, 0,\n",
              "       1, 1, 0, 0, 0, 0, 1, 0, 0, 0, 1, 1, 0, 1, 0, 0, 1, 0, 0, 1, 0, 0,\n",
              "       1, 1, 0, 0, 0, 1, 0, 0, 1, 1, 0, 0, 0, 1, 0, 1, 1, 0, 1, 0, 0, 1,\n",
              "       0, 1, 0, 0, 1, 0, 0, 0, 1, 1, 1, 1, 0, 0, 1, 1, 0, 0, 0, 0, 1, 0,\n",
              "       0, 1, 1, 1, 1, 1, 1, 0, 0, 0, 1, 1, 0, 1, 1, 1, 0, 1, 0, 0, 0, 0,\n",
              "       0, 0, 0, 1, 0, 1, 0, 0, 1, 0])"
            ]
          },
          "metadata": {
            "tags": []
          },
          "execution_count": 75
        }
      ]
    },
    {
      "cell_type": "code",
      "metadata": {
        "colab": {
          "base_uri": "https://localhost:8080/"
        },
        "id": "WYy2Ekd7rkvM",
        "outputId": "424a42e5-63ee-40d8-c299-c231bc0977d0"
      },
      "source": [
        "# compare them with the targets\n",
        "y_train"
      ],
      "execution_count": null,
      "outputs": [
        {
          "output_type": "execute_result",
          "data": {
            "text/plain": [
              "array([0, 1, 1, 1, 1, 0, 0, 1, 0, 1, 0, 1, 1, 0, 0, 0, 0, 0, 1, 1, 0, 0,\n",
              "       1, 1, 0, 0, 0, 0, 1, 0, 0, 1, 0, 1, 0, 0, 0, 1, 1, 1, 1, 0, 1, 1,\n",
              "       1, 0, 0, 0, 1, 1, 1, 1, 0, 0, 0, 1, 1, 0, 0, 1, 0, 0, 1, 0, 0, 0,\n",
              "       0, 0, 0, 1, 0, 1, 1, 0, 0, 1, 1, 0, 0, 1, 1, 0, 0, 1, 0, 1, 0, 1,\n",
              "       1, 1, 0, 0, 1, 0, 0, 0, 0, 0, 0, 1, 1, 1, 1, 0, 1, 1, 0, 0, 1, 0,\n",
              "       0, 1, 1, 1, 1, 0, 0, 1, 1, 1, 1, 1, 0, 0, 0, 1, 0, 1, 0, 0, 1, 1,\n",
              "       0, 0, 0, 0, 0, 0, 0, 0, 0, 0, 1, 0, 1, 1, 0, 0, 0, 1, 0, 0, 0, 1,\n",
              "       0, 1, 0, 0, 0, 1, 1, 0, 1, 1, 0, 0, 1, 1, 1, 0, 0, 0, 0, 0, 1, 0,\n",
              "       0, 0, 0, 0, 1, 0, 0, 1, 1, 1, 0, 1, 0, 0, 0, 1, 1, 0, 0, 0, 0, 1,\n",
              "       1, 0, 0, 1, 1, 1, 0, 0, 0, 1, 0, 0, 1, 1, 1, 0, 0, 1, 0, 1, 0, 0,\n",
              "       1, 0, 0, 0, 0, 0, 1, 0, 1, 0, 0, 1, 1, 1, 1, 0, 1, 1, 0, 0, 0, 0,\n",
              "       0, 0, 1, 0, 1, 1, 1, 1, 1, 0, 1, 0, 1, 0, 1, 1, 1, 1, 1, 1, 0, 0,\n",
              "       0, 0, 0, 0, 0, 0, 0, 1, 0, 0, 1, 0, 1, 0, 1, 0, 0, 0, 1, 0, 0, 0,\n",
              "       1, 0, 1, 0, 0, 0, 0, 1, 0, 1, 0, 0, 1, 1, 0, 0, 0, 1, 0, 1, 0, 0,\n",
              "       0, 1, 0, 1, 1, 0, 1, 0, 1, 1, 0, 0, 1, 0, 1, 0, 0, 1, 0, 0, 1, 1,\n",
              "       1, 0, 0, 0, 0, 1, 1, 1, 0, 0, 0, 1, 0, 1, 0, 1, 1, 1, 0, 0, 0, 1,\n",
              "       0, 0, 1, 0, 1, 1, 0, 0, 0, 0, 1, 0, 1, 1, 0, 0, 0, 1, 1, 1, 0, 0,\n",
              "       1, 1, 1, 1, 0, 0, 1, 0, 0, 1, 0, 0, 1, 1, 1, 1, 1, 1, 1, 0, 1, 0,\n",
              "       0, 0, 0, 0, 0, 0, 1, 0, 1, 1, 0, 1, 0, 0, 0, 1, 1, 0, 0, 1, 1, 1,\n",
              "       0, 1, 0, 1, 0, 0, 1, 0, 1, 1, 0, 1, 1, 1, 1, 1, 1, 0, 0, 0, 0, 0,\n",
              "       0, 0, 0, 1, 0, 0, 0, 0, 0, 1, 0, 1, 1, 0, 0, 0, 0, 0, 0, 0, 1, 0,\n",
              "       1, 1, 0, 0, 0, 0, 1, 0, 1, 0, 1, 1, 0, 1, 0, 1, 1, 0, 0, 1, 0, 0,\n",
              "       1, 1, 0, 0, 1, 1, 0, 0, 1, 1, 0, 0, 0, 1, 0, 1, 1, 0, 1, 0, 0, 1,\n",
              "       0, 1, 0, 0, 1, 0, 0, 1, 1, 1, 1, 1, 0, 1, 1, 1, 1, 1, 0, 0, 1, 0,\n",
              "       0, 1, 1, 1, 1, 1, 1, 0, 0, 0, 1, 1, 1, 1, 1, 1, 0, 1, 1, 0, 0, 0,\n",
              "       0, 0, 0, 1, 1, 1, 1, 0, 1, 0])"
            ]
          },
          "metadata": {
            "tags": []
          },
          "execution_count": 76
        }
      ]
    },
    {
      "cell_type": "code",
      "metadata": {
        "colab": {
          "base_uri": "https://localhost:8080/"
        },
        "id": "m08E9ONQrqb0",
        "outputId": "3fc7364c-501a-461e-e812-d2675883b65d"
      },
      "source": [
        "# ACTUALLY compare the two variables\n",
        "model_outputs == y_train"
      ],
      "execution_count": null,
      "outputs": [
        {
          "output_type": "execute_result",
          "data": {
            "text/plain": [
              "array([ True,  True,  True,  True,  True,  True,  True,  True,  True,\n",
              "        True,  True,  True,  True,  True,  True,  True,  True,  True,\n",
              "        True,  True,  True,  True,  True,  True,  True,  True,  True,\n",
              "        True,  True,  True,  True, False,  True,  True,  True,  True,\n",
              "        True, False,  True,  True,  True,  True,  True,  True,  True,\n",
              "        True,  True,  True,  True,  True,  True,  True,  True,  True,\n",
              "        True,  True,  True,  True,  True, False,  True,  True,  True,\n",
              "        True,  True,  True,  True,  True,  True,  True,  True, False,\n",
              "        True,  True,  True, False,  True,  True,  True,  True,  True,\n",
              "        True,  True,  True,  True,  True,  True, False, False,  True,\n",
              "        True,  True, False,  True,  True,  True,  True,  True,  True,\n",
              "       False,  True,  True,  True,  True,  True,  True,  True,  True,\n",
              "        True,  True,  True,  True, False,  True,  True,  True,  True,\n",
              "        True,  True,  True,  True,  True,  True,  True,  True,  True,\n",
              "        True,  True,  True,  True,  True, False,  True,  True,  True,\n",
              "        True,  True,  True,  True,  True,  True,  True,  True,  True,\n",
              "        True,  True,  True,  True,  True,  True,  True,  True,  True,\n",
              "        True,  True,  True,  True,  True,  True,  True,  True,  True,\n",
              "        True, False,  True,  True,  True,  True,  True,  True,  True,\n",
              "        True,  True,  True,  True,  True,  True,  True,  True,  True,\n",
              "        True,  True,  True,  True,  True,  True,  True,  True,  True,\n",
              "        True,  True,  True,  True,  True,  True,  True,  True,  True,\n",
              "        True,  True,  True,  True,  True,  True,  True,  True,  True,\n",
              "       False,  True,  True,  True,  True,  True,  True,  True,  True,\n",
              "        True,  True,  True,  True,  True,  True,  True,  True,  True,\n",
              "        True,  True,  True,  True,  True,  True,  True, False,  True,\n",
              "       False,  True,  True,  True,  True,  True,  True,  True,  True,\n",
              "        True,  True,  True,  True, False,  True, False,  True,  True,\n",
              "        True,  True,  True,  True,  True,  True,  True,  True,  True,\n",
              "        True,  True,  True,  True,  True,  True,  True,  True,  True,\n",
              "        True,  True,  True,  True,  True,  True,  True,  True, False,\n",
              "        True,  True,  True,  True,  True,  True,  True, False,  True,\n",
              "        True,  True,  True,  True,  True,  True,  True, False,  True,\n",
              "        True,  True,  True,  True,  True,  True,  True,  True,  True,\n",
              "        True,  True,  True,  True,  True,  True,  True,  True,  True,\n",
              "        True,  True,  True,  True,  True,  True,  True,  True,  True,\n",
              "        True,  True,  True,  True,  True,  True,  True,  True,  True,\n",
              "        True,  True,  True,  True,  True,  True,  True,  True,  True,\n",
              "        True,  True,  True,  True,  True,  True,  True,  True,  True,\n",
              "        True,  True,  True,  True,  True,  True, False,  True,  True,\n",
              "        True,  True,  True,  True,  True, False,  True,  True,  True,\n",
              "        True,  True,  True,  True,  True,  True, False,  True,  True,\n",
              "        True,  True,  True,  True,  True,  True,  True,  True,  True,\n",
              "        True,  True,  True,  True,  True,  True,  True,  True,  True,\n",
              "        True,  True,  True,  True,  True,  True,  True,  True,  True,\n",
              "        True,  True,  True,  True,  True,  True,  True,  True,  True,\n",
              "        True,  True,  True,  True,  True,  True,  True,  True,  True,\n",
              "        True,  True,  True, False, False,  True, False,  True, False,\n",
              "        True,  True,  True,  True,  True,  True,  True,  True,  True,\n",
              "        True,  True,  True,  True,  True,  True,  True,  True,  True,\n",
              "        True,  True,  True,  True,  True,  True,  True,  True,  True,\n",
              "        True,  True,  True,  True,  True,  True,  True,  True,  True,\n",
              "        True,  True, False,  True,  True,  True,  True,  True,  True,\n",
              "       False,  True,  True,  True,  True,  True,  True,  True,  True,\n",
              "        True,  True, False,  True,  True,  True,  True,  True,  True,\n",
              "        True,  True,  True,  True,  True,  True,  True,  True,  True,\n",
              "        True,  True,  True,  True,  True,  True,  True,  True,  True,\n",
              "       False,  True,  True,  True,  True,  True, False,  True,  True,\n",
              "       False, False,  True,  True,  True,  True,  True,  True,  True,\n",
              "        True,  True,  True,  True,  True,  True,  True,  True,  True,\n",
              "       False,  True,  True,  True,  True,  True, False,  True,  True,\n",
              "        True,  True,  True,  True,  True, False,  True, False,  True,\n",
              "        True,  True])"
            ]
          },
          "metadata": {
            "tags": []
          },
          "execution_count": 77
        }
      ]
    },
    {
      "cell_type": "code",
      "metadata": {
        "colab": {
          "base_uri": "https://localhost:8080/"
        },
        "id": "LLXqIOObrtZf",
        "outputId": "06c1a77c-8c01-4d8f-e60c-888a791e3f2d"
      },
      "source": [
        "# find out in how many instances we predicted correctly\n",
        "np.sum((model_outputs==y_train))"
      ],
      "execution_count": null,
      "outputs": [
        {
          "output_type": "execute_result",
          "data": {
            "text/plain": [
              "522"
            ]
          },
          "metadata": {
            "tags": []
          },
          "execution_count": 78
        }
      ]
    },
    {
      "cell_type": "code",
      "metadata": {
        "colab": {
          "base_uri": "https://localhost:8080/"
        },
        "id": "qzGXZIgnrzAO",
        "outputId": "bed3ed72-96f4-4ef7-b32c-0a1e7371bb47"
      },
      "source": [
        "# get the total number of instances\n",
        "model_outputs.shape[0]"
      ],
      "execution_count": null,
      "outputs": [
        {
          "output_type": "execute_result",
          "data": {
            "text/plain": [
              "560"
            ]
          },
          "metadata": {
            "tags": []
          },
          "execution_count": 79
        }
      ]
    },
    {
      "cell_type": "code",
      "metadata": {
        "colab": {
          "base_uri": "https://localhost:8080/"
        },
        "id": "IkNBBfbKr1Nm",
        "outputId": "32667fb6-2d16-4c50-eca2-8d9990271570"
      },
      "source": [
        "# calculate the accuracy of the model\n",
        "np.sum((model_outputs==y_train)) / model_outputs.shape[0]"
      ],
      "execution_count": null,
      "outputs": [
        {
          "output_type": "execute_result",
          "data": {
            "text/plain": [
              "0.9321428571428572"
            ]
          },
          "metadata": {
            "tags": []
          },
          "execution_count": 80
        }
      ]
    },
    {
      "cell_type": "markdown",
      "metadata": {
        "id": "qHX5RIbfr4I_"
      },
      "source": [
        "# Find the Intercepts and Coefficients"
      ]
    },
    {
      "cell_type": "code",
      "metadata": {
        "colab": {
          "base_uri": "https://localhost:8080/"
        },
        "id": "kQKbRULqr9FW",
        "outputId": "afbaafb0-c8c6-4e38-d028-2e2dd87294d3"
      },
      "source": [
        "# get the intercept (bias) of our model\n",
        "reg.intercept_"
      ],
      "execution_count": null,
      "outputs": [
        {
          "output_type": "execute_result",
          "data": {
            "text/plain": [
              "array([1.28286724])"
            ]
          },
          "metadata": {
            "tags": []
          },
          "execution_count": 81
        }
      ]
    },
    {
      "cell_type": "code",
      "metadata": {
        "colab": {
          "base_uri": "https://localhost:8080/"
        },
        "id": "3s2AIKuasBP3",
        "outputId": "c60d2947-3abf-4510-e541-715973d5a9d5"
      },
      "source": [
        "# get the coefficients (weights) of our model\n",
        "reg.coef_"
      ],
      "execution_count": null,
      "outputs": [
        {
          "output_type": "execute_result",
          "data": {
            "text/plain": [
              "array([[ 0.6075219 , -0.02738523,  0.49833285,  0.13631453,  0.10127289,\n",
              "        -0.05091472,  0.43044728,  0.08755244, -0.03639032,  8.94336027]])"
            ]
          },
          "metadata": {
            "tags": []
          },
          "execution_count": 82
        }
      ]
    },
    {
      "cell_type": "code",
      "metadata": {
        "colab": {
          "base_uri": "https://localhost:8080/"
        },
        "id": "BtOzk5LGsDdT",
        "outputId": "81b0cb0f-5e24-4ce8-8b79-aca1b5de239d"
      },
      "source": [
        "# check what were the names of our columns\n",
        "unscaled_inputs.columns.values"
      ],
      "execution_count": null,
      "outputs": [
        {
          "output_type": "execute_result",
          "data": {
            "text/plain": [
              "array(['Reason_1', 'Reason_2', 'Reason_3', 'Reason_4', 'Month Value',\n",
              "       'Day of the Week', 'Transportation Expense', 'Distance to Work',\n",
              "       'Daily Work Load Average', 'Absenteeism Time in Hours'],\n",
              "      dtype=object)"
            ]
          },
          "metadata": {
            "tags": []
          },
          "execution_count": 83
        }
      ]
    },
    {
      "cell_type": "code",
      "metadata": {
        "id": "D2Fp1q5CsH0J"
      },
      "source": [
        "# save the names of the columns in an ad-hoc variable\n",
        "feature_name = unscaled_inputs.columns.values"
      ],
      "execution_count": null,
      "outputs": []
    },
    {
      "cell_type": "code",
      "metadata": {
        "colab": {
          "base_uri": "https://localhost:8080/",
          "height": 355
        },
        "id": "cE_Y6JylsLpp",
        "outputId": "0cfe4013-063f-4c31-bec1-9fcda5f3a4b7"
      },
      "source": [
        "# use the coefficients from this table (they will be exported later and will be used in Tableau)\n",
        "# transpose the model coefficients (model.coef_) and throws them into a df (a vertical organization, so that they can be\n",
        "# multiplied by certain matrices later) \n",
        "summary_table = pd.DataFrame (columns=['Feature name'], data = feature_name)\n",
        "\n",
        "# add the coefficient values to the summary table\n",
        "summary_table['Coefficient'] = np.transpose(reg.coef_)\n",
        "\n",
        "# display the summary table\n",
        "summary_table"
      ],
      "execution_count": null,
      "outputs": [
        {
          "output_type": "execute_result",
          "data": {
            "text/html": [
              "<div>\n",
              "<style scoped>\n",
              "    .dataframe tbody tr th:only-of-type {\n",
              "        vertical-align: middle;\n",
              "    }\n",
              "\n",
              "    .dataframe tbody tr th {\n",
              "        vertical-align: top;\n",
              "    }\n",
              "\n",
              "    .dataframe thead th {\n",
              "        text-align: right;\n",
              "    }\n",
              "</style>\n",
              "<table border=\"1\" class=\"dataframe\">\n",
              "  <thead>\n",
              "    <tr style=\"text-align: right;\">\n",
              "      <th></th>\n",
              "      <th>Feature name</th>\n",
              "      <th>Coefficient</th>\n",
              "    </tr>\n",
              "  </thead>\n",
              "  <tbody>\n",
              "    <tr>\n",
              "      <th>0</th>\n",
              "      <td>Reason_1</td>\n",
              "      <td>0.607522</td>\n",
              "    </tr>\n",
              "    <tr>\n",
              "      <th>1</th>\n",
              "      <td>Reason_2</td>\n",
              "      <td>-0.027385</td>\n",
              "    </tr>\n",
              "    <tr>\n",
              "      <th>2</th>\n",
              "      <td>Reason_3</td>\n",
              "      <td>0.498333</td>\n",
              "    </tr>\n",
              "    <tr>\n",
              "      <th>3</th>\n",
              "      <td>Reason_4</td>\n",
              "      <td>0.136315</td>\n",
              "    </tr>\n",
              "    <tr>\n",
              "      <th>4</th>\n",
              "      <td>Month Value</td>\n",
              "      <td>0.101273</td>\n",
              "    </tr>\n",
              "    <tr>\n",
              "      <th>5</th>\n",
              "      <td>Day of the Week</td>\n",
              "      <td>-0.050915</td>\n",
              "    </tr>\n",
              "    <tr>\n",
              "      <th>6</th>\n",
              "      <td>Transportation Expense</td>\n",
              "      <td>0.430447</td>\n",
              "    </tr>\n",
              "    <tr>\n",
              "      <th>7</th>\n",
              "      <td>Distance to Work</td>\n",
              "      <td>0.087552</td>\n",
              "    </tr>\n",
              "    <tr>\n",
              "      <th>8</th>\n",
              "      <td>Daily Work Load Average</td>\n",
              "      <td>-0.036390</td>\n",
              "    </tr>\n",
              "    <tr>\n",
              "      <th>9</th>\n",
              "      <td>Absenteeism Time in Hours</td>\n",
              "      <td>8.943360</td>\n",
              "    </tr>\n",
              "  </tbody>\n",
              "</table>\n",
              "</div>"
            ],
            "text/plain": [
              "                Feature name  Coefficient\n",
              "0                   Reason_1     0.607522\n",
              "1                   Reason_2    -0.027385\n",
              "2                   Reason_3     0.498333\n",
              "3                   Reason_4     0.136315\n",
              "4                Month Value     0.101273\n",
              "5            Day of the Week    -0.050915\n",
              "6     Transportation Expense     0.430447\n",
              "7           Distance to Work     0.087552\n",
              "8    Daily Work Load Average    -0.036390\n",
              "9  Absenteeism Time in Hours     8.943360"
            ]
          },
          "metadata": {
            "tags": []
          },
          "execution_count": 85
        }
      ]
    },
    {
      "cell_type": "code",
      "metadata": {
        "colab": {
          "base_uri": "https://localhost:8080/",
          "height": 386
        },
        "id": "SaKaNZsbshB0",
        "outputId": "41a0ed5d-3c67-4193-cda4-2c8bf57e6257"
      },
      "source": [
        "# do a little Python trick to move the intercept to the top of the summary table\n",
        "# move all indices by 1\n",
        "summary_table.index = summary_table.index + 1\n",
        "\n",
        "# add the intercept at index 0\n",
        "summary_table.loc[0] = ['Intercept', reg.intercept_[0]]\n",
        "\n",
        "# sort the df by index\n",
        "summary_table = summary_table.sort_index()\n",
        "summary_table"
      ],
      "execution_count": null,
      "outputs": [
        {
          "output_type": "execute_result",
          "data": {
            "text/html": [
              "<div>\n",
              "<style scoped>\n",
              "    .dataframe tbody tr th:only-of-type {\n",
              "        vertical-align: middle;\n",
              "    }\n",
              "\n",
              "    .dataframe tbody tr th {\n",
              "        vertical-align: top;\n",
              "    }\n",
              "\n",
              "    .dataframe thead th {\n",
              "        text-align: right;\n",
              "    }\n",
              "</style>\n",
              "<table border=\"1\" class=\"dataframe\">\n",
              "  <thead>\n",
              "    <tr style=\"text-align: right;\">\n",
              "      <th></th>\n",
              "      <th>Feature name</th>\n",
              "      <th>Coefficient</th>\n",
              "    </tr>\n",
              "  </thead>\n",
              "  <tbody>\n",
              "    <tr>\n",
              "      <th>0</th>\n",
              "      <td>Intercept</td>\n",
              "      <td>1.282867</td>\n",
              "    </tr>\n",
              "    <tr>\n",
              "      <th>1</th>\n",
              "      <td>Reason_1</td>\n",
              "      <td>0.607522</td>\n",
              "    </tr>\n",
              "    <tr>\n",
              "      <th>2</th>\n",
              "      <td>Reason_2</td>\n",
              "      <td>-0.027385</td>\n",
              "    </tr>\n",
              "    <tr>\n",
              "      <th>3</th>\n",
              "      <td>Reason_3</td>\n",
              "      <td>0.498333</td>\n",
              "    </tr>\n",
              "    <tr>\n",
              "      <th>4</th>\n",
              "      <td>Reason_4</td>\n",
              "      <td>0.136315</td>\n",
              "    </tr>\n",
              "    <tr>\n",
              "      <th>5</th>\n",
              "      <td>Month Value</td>\n",
              "      <td>0.101273</td>\n",
              "    </tr>\n",
              "    <tr>\n",
              "      <th>6</th>\n",
              "      <td>Day of the Week</td>\n",
              "      <td>-0.050915</td>\n",
              "    </tr>\n",
              "    <tr>\n",
              "      <th>7</th>\n",
              "      <td>Transportation Expense</td>\n",
              "      <td>0.430447</td>\n",
              "    </tr>\n",
              "    <tr>\n",
              "      <th>8</th>\n",
              "      <td>Distance to Work</td>\n",
              "      <td>0.087552</td>\n",
              "    </tr>\n",
              "    <tr>\n",
              "      <th>9</th>\n",
              "      <td>Daily Work Load Average</td>\n",
              "      <td>-0.036390</td>\n",
              "    </tr>\n",
              "    <tr>\n",
              "      <th>10</th>\n",
              "      <td>Absenteeism Time in Hours</td>\n",
              "      <td>8.943360</td>\n",
              "    </tr>\n",
              "  </tbody>\n",
              "</table>\n",
              "</div>"
            ],
            "text/plain": [
              "                 Feature name  Coefficient\n",
              "0                   Intercept     1.282867\n",
              "1                    Reason_1     0.607522\n",
              "2                    Reason_2    -0.027385\n",
              "3                    Reason_3     0.498333\n",
              "4                    Reason_4     0.136315\n",
              "5                 Month Value     0.101273\n",
              "6             Day of the Week    -0.050915\n",
              "7      Transportation Expense     0.430447\n",
              "8            Distance to Work     0.087552\n",
              "9     Daily Work Load Average    -0.036390\n",
              "10  Absenteeism Time in Hours     8.943360"
            ]
          },
          "metadata": {
            "tags": []
          },
          "execution_count": 86
        }
      ]
    },
    {
      "cell_type": "markdown",
      "metadata": {
        "id": "if7GX2SrsoAl"
      },
      "source": [
        "# Interpreting the coefficients"
      ]
    },
    {
      "cell_type": "code",
      "metadata": {
        "id": "tdcxO9ZusqCZ"
      },
      "source": [
        "# create a new Series called: 'Odds ratio' which will show the.. odds ratio of each feature\n",
        "summary_table['Odds_ratio'] = np.exp(summary_table.Coefficient)"
      ],
      "execution_count": null,
      "outputs": []
    },
    {
      "cell_type": "code",
      "metadata": {
        "colab": {
          "base_uri": "https://localhost:8080/",
          "height": 386
        },
        "id": "hfgBpcceswzC",
        "outputId": "f0368254-85e5-4778-9315-c7e98f73bef5"
      },
      "source": [
        "# display the df\n",
        "summary_table"
      ],
      "execution_count": null,
      "outputs": [
        {
          "output_type": "execute_result",
          "data": {
            "text/html": [
              "<div>\n",
              "<style scoped>\n",
              "    .dataframe tbody tr th:only-of-type {\n",
              "        vertical-align: middle;\n",
              "    }\n",
              "\n",
              "    .dataframe tbody tr th {\n",
              "        vertical-align: top;\n",
              "    }\n",
              "\n",
              "    .dataframe thead th {\n",
              "        text-align: right;\n",
              "    }\n",
              "</style>\n",
              "<table border=\"1\" class=\"dataframe\">\n",
              "  <thead>\n",
              "    <tr style=\"text-align: right;\">\n",
              "      <th></th>\n",
              "      <th>Feature name</th>\n",
              "      <th>Coefficient</th>\n",
              "      <th>Odds_ratio</th>\n",
              "    </tr>\n",
              "  </thead>\n",
              "  <tbody>\n",
              "    <tr>\n",
              "      <th>0</th>\n",
              "      <td>Intercept</td>\n",
              "      <td>1.282867</td>\n",
              "      <td>3.606967</td>\n",
              "    </tr>\n",
              "    <tr>\n",
              "      <th>1</th>\n",
              "      <td>Reason_1</td>\n",
              "      <td>0.607522</td>\n",
              "      <td>1.835876</td>\n",
              "    </tr>\n",
              "    <tr>\n",
              "      <th>2</th>\n",
              "      <td>Reason_2</td>\n",
              "      <td>-0.027385</td>\n",
              "      <td>0.972986</td>\n",
              "    </tr>\n",
              "    <tr>\n",
              "      <th>3</th>\n",
              "      <td>Reason_3</td>\n",
              "      <td>0.498333</td>\n",
              "      <td>1.645975</td>\n",
              "    </tr>\n",
              "    <tr>\n",
              "      <th>4</th>\n",
              "      <td>Reason_4</td>\n",
              "      <td>0.136315</td>\n",
              "      <td>1.146042</td>\n",
              "    </tr>\n",
              "    <tr>\n",
              "      <th>5</th>\n",
              "      <td>Month Value</td>\n",
              "      <td>0.101273</td>\n",
              "      <td>1.106579</td>\n",
              "    </tr>\n",
              "    <tr>\n",
              "      <th>6</th>\n",
              "      <td>Day of the Week</td>\n",
              "      <td>-0.050915</td>\n",
              "      <td>0.950360</td>\n",
              "    </tr>\n",
              "    <tr>\n",
              "      <th>7</th>\n",
              "      <td>Transportation Expense</td>\n",
              "      <td>0.430447</td>\n",
              "      <td>1.537945</td>\n",
              "    </tr>\n",
              "    <tr>\n",
              "      <th>8</th>\n",
              "      <td>Distance to Work</td>\n",
              "      <td>0.087552</td>\n",
              "      <td>1.091499</td>\n",
              "    </tr>\n",
              "    <tr>\n",
              "      <th>9</th>\n",
              "      <td>Daily Work Load Average</td>\n",
              "      <td>-0.036390</td>\n",
              "      <td>0.964264</td>\n",
              "    </tr>\n",
              "    <tr>\n",
              "      <th>10</th>\n",
              "      <td>Absenteeism Time in Hours</td>\n",
              "      <td>8.943360</td>\n",
              "      <td>7656.883046</td>\n",
              "    </tr>\n",
              "  </tbody>\n",
              "</table>\n",
              "</div>"
            ],
            "text/plain": [
              "                 Feature name  Coefficient   Odds_ratio\n",
              "0                   Intercept     1.282867     3.606967\n",
              "1                    Reason_1     0.607522     1.835876\n",
              "2                    Reason_2    -0.027385     0.972986\n",
              "3                    Reason_3     0.498333     1.645975\n",
              "4                    Reason_4     0.136315     1.146042\n",
              "5                 Month Value     0.101273     1.106579\n",
              "6             Day of the Week    -0.050915     0.950360\n",
              "7      Transportation Expense     0.430447     1.537945\n",
              "8            Distance to Work     0.087552     1.091499\n",
              "9     Daily Work Load Average    -0.036390     0.964264\n",
              "10  Absenteeism Time in Hours     8.943360  7656.883046"
            ]
          },
          "metadata": {
            "tags": []
          },
          "execution_count": 88
        }
      ]
    },
    {
      "cell_type": "code",
      "metadata": {
        "colab": {
          "base_uri": "https://localhost:8080/",
          "height": 386
        },
        "id": "o38efR5Ws6D5",
        "outputId": "1081a02b-9f60-44b8-a981-36ac4870c2de"
      },
      "source": [
        "# sort the table according to odds ratio\n",
        "# note that by default, the sort_values method sorts values by 'descending'\n",
        "summary_table.sort_values('Odds_ratio', ascending=False)"
      ],
      "execution_count": null,
      "outputs": [
        {
          "output_type": "execute_result",
          "data": {
            "text/html": [
              "<div>\n",
              "<style scoped>\n",
              "    .dataframe tbody tr th:only-of-type {\n",
              "        vertical-align: middle;\n",
              "    }\n",
              "\n",
              "    .dataframe tbody tr th {\n",
              "        vertical-align: top;\n",
              "    }\n",
              "\n",
              "    .dataframe thead th {\n",
              "        text-align: right;\n",
              "    }\n",
              "</style>\n",
              "<table border=\"1\" class=\"dataframe\">\n",
              "  <thead>\n",
              "    <tr style=\"text-align: right;\">\n",
              "      <th></th>\n",
              "      <th>Feature name</th>\n",
              "      <th>Coefficient</th>\n",
              "      <th>Odds_ratio</th>\n",
              "    </tr>\n",
              "  </thead>\n",
              "  <tbody>\n",
              "    <tr>\n",
              "      <th>10</th>\n",
              "      <td>Absenteeism Time in Hours</td>\n",
              "      <td>8.943360</td>\n",
              "      <td>7656.883046</td>\n",
              "    </tr>\n",
              "    <tr>\n",
              "      <th>0</th>\n",
              "      <td>Intercept</td>\n",
              "      <td>1.282867</td>\n",
              "      <td>3.606967</td>\n",
              "    </tr>\n",
              "    <tr>\n",
              "      <th>1</th>\n",
              "      <td>Reason_1</td>\n",
              "      <td>0.607522</td>\n",
              "      <td>1.835876</td>\n",
              "    </tr>\n",
              "    <tr>\n",
              "      <th>3</th>\n",
              "      <td>Reason_3</td>\n",
              "      <td>0.498333</td>\n",
              "      <td>1.645975</td>\n",
              "    </tr>\n",
              "    <tr>\n",
              "      <th>7</th>\n",
              "      <td>Transportation Expense</td>\n",
              "      <td>0.430447</td>\n",
              "      <td>1.537945</td>\n",
              "    </tr>\n",
              "    <tr>\n",
              "      <th>4</th>\n",
              "      <td>Reason_4</td>\n",
              "      <td>0.136315</td>\n",
              "      <td>1.146042</td>\n",
              "    </tr>\n",
              "    <tr>\n",
              "      <th>5</th>\n",
              "      <td>Month Value</td>\n",
              "      <td>0.101273</td>\n",
              "      <td>1.106579</td>\n",
              "    </tr>\n",
              "    <tr>\n",
              "      <th>8</th>\n",
              "      <td>Distance to Work</td>\n",
              "      <td>0.087552</td>\n",
              "      <td>1.091499</td>\n",
              "    </tr>\n",
              "    <tr>\n",
              "      <th>2</th>\n",
              "      <td>Reason_2</td>\n",
              "      <td>-0.027385</td>\n",
              "      <td>0.972986</td>\n",
              "    </tr>\n",
              "    <tr>\n",
              "      <th>9</th>\n",
              "      <td>Daily Work Load Average</td>\n",
              "      <td>-0.036390</td>\n",
              "      <td>0.964264</td>\n",
              "    </tr>\n",
              "    <tr>\n",
              "      <th>6</th>\n",
              "      <td>Day of the Week</td>\n",
              "      <td>-0.050915</td>\n",
              "      <td>0.950360</td>\n",
              "    </tr>\n",
              "  </tbody>\n",
              "</table>\n",
              "</div>"
            ],
            "text/plain": [
              "                 Feature name  Coefficient   Odds_ratio\n",
              "10  Absenteeism Time in Hours     8.943360  7656.883046\n",
              "0                   Intercept     1.282867     3.606967\n",
              "1                    Reason_1     0.607522     1.835876\n",
              "3                    Reason_3     0.498333     1.645975\n",
              "7      Transportation Expense     0.430447     1.537945\n",
              "4                    Reason_4     0.136315     1.146042\n",
              "5                 Month Value     0.101273     1.106579\n",
              "8            Distance to Work     0.087552     1.091499\n",
              "2                    Reason_2    -0.027385     0.972986\n",
              "9     Daily Work Load Average    -0.036390     0.964264\n",
              "6             Day of the Week    -0.050915     0.950360"
            ]
          },
          "metadata": {
            "tags": []
          },
          "execution_count": 89
        }
      ]
    },
    {
      "cell_type": "markdown",
      "metadata": {
        "id": "_6Bn7PCptKH1"
      },
      "source": [
        "# Test the model"
      ]
    },
    {
      "cell_type": "code",
      "metadata": {
        "colab": {
          "base_uri": "https://localhost:8080/"
        },
        "id": "bSNywSxdtMZW",
        "outputId": "d0cf44c6-f032-4f39-c849-614e3f9a6291"
      },
      "source": [
        "# assess the test accuracy of the model\n",
        "reg.score(x_test,y_test)"
      ],
      "execution_count": null,
      "outputs": [
        {
          "output_type": "execute_result",
          "data": {
            "text/plain": [
              "0.9285714285714286"
            ]
          },
          "metadata": {
            "tags": []
          },
          "execution_count": 90
        }
      ]
    },
    {
      "cell_type": "code",
      "metadata": {
        "colab": {
          "base_uri": "https://localhost:8080/"
        },
        "id": "TnlFgq9vtQGL",
        "outputId": "c147e876-503d-4dec-ed5e-4e05a94b8533"
      },
      "source": [
        "# find the predicted probabilities of each class\n",
        "# the first column shows the probability of a particular observation to be 0, while the second one - to be 1\n",
        "predicted_proba = reg.predict_proba(x_test)\n",
        "\n",
        "# let's check that out\n",
        "predicted_proba"
      ],
      "execution_count": null,
      "outputs": [
        {
          "output_type": "execute_result",
          "data": {
            "text/plain": [
              "array([[9.36922870e-01, 6.30771304e-02],\n",
              "       [5.20368435e-01, 4.79631565e-01],\n",
              "       [7.58095302e-02, 9.24190470e-01],\n",
              "       [8.19572182e-01, 1.80427818e-01],\n",
              "       [3.80147903e-02, 9.61985210e-01],\n",
              "       [5.54825382e-01, 4.45174618e-01],\n",
              "       [7.18391729e-02, 9.28160827e-01],\n",
              "       [6.05972822e-02, 9.39402718e-01],\n",
              "       [8.83530328e-01, 1.16469672e-01],\n",
              "       [6.55599577e-01, 3.44400423e-01],\n",
              "       [3.10911514e-02, 9.68908849e-01],\n",
              "       [3.82173003e-01, 6.17826997e-01],\n",
              "       [0.00000000e+00, 1.00000000e+00],\n",
              "       [9.61348332e-02, 9.03865167e-01],\n",
              "       [7.06665507e-02, 9.29333449e-01],\n",
              "       [4.60324185e-01, 5.39675815e-01],\n",
              "       [6.92623971e-01, 3.07376029e-01],\n",
              "       [4.21031568e-02, 9.57896843e-01],\n",
              "       [0.00000000e+00, 1.00000000e+00],\n",
              "       [3.28745564e-02, 9.67125444e-01],\n",
              "       [7.57449784e-01, 2.42550216e-01],\n",
              "       [8.15255775e-01, 1.84744225e-01],\n",
              "       [1.15942771e-01, 8.84057229e-01],\n",
              "       [8.07986148e-01, 1.92013852e-01],\n",
              "       [7.11876670e-02, 9.28812333e-01],\n",
              "       [8.89970452e-01, 1.10029548e-01],\n",
              "       [8.45486715e-01, 1.54513285e-01],\n",
              "       [1.14670465e-01, 8.85329535e-01],\n",
              "       [9.16695124e-01, 8.33048764e-02],\n",
              "       [8.10859936e-01, 1.89140064e-01],\n",
              "       [6.11124536e-02, 9.38887546e-01],\n",
              "       [6.80479470e-02, 9.31952053e-01],\n",
              "       [9.11125697e-01, 8.88743025e-02],\n",
              "       [2.94909510e-02, 9.70509049e-01],\n",
              "       [8.15255775e-01, 1.84744225e-01],\n",
              "       [5.49970569e-02, 9.45002943e-01],\n",
              "       [7.72122050e-01, 2.27877950e-01],\n",
              "       [1.28096920e-01, 8.71903080e-01],\n",
              "       [5.64220873e-01, 4.35779127e-01],\n",
              "       [5.45213286e-01, 4.54786714e-01],\n",
              "       [8.97772769e-01, 1.02227231e-01],\n",
              "       [3.77346002e-04, 9.99622654e-01],\n",
              "       [8.94117802e-01, 1.05882198e-01],\n",
              "       [9.58780638e-01, 4.12193618e-02],\n",
              "       [8.45106474e-01, 1.54893526e-01],\n",
              "       [1.23650211e-01, 8.76349789e-01],\n",
              "       [1.42313797e-06, 9.99998577e-01],\n",
              "       [9.44087251e-01, 5.59127494e-02],\n",
              "       [8.40190693e-01, 1.59809307e-01],\n",
              "       [9.14006998e-01, 8.59930016e-02],\n",
              "       [2.48661953e-04, 9.99751338e-01],\n",
              "       [9.38316347e-01, 6.16836532e-02],\n",
              "       [1.04852743e-06, 9.99998951e-01],\n",
              "       [9.26452431e-01, 7.35475691e-02],\n",
              "       [1.47929136e-09, 9.99999999e-01],\n",
              "       [8.82365694e-01, 1.17634306e-01],\n",
              "       [1.87589092e-02, 9.81241091e-01],\n",
              "       [6.08334935e-01, 3.91665065e-01],\n",
              "       [9.69029259e-01, 3.09707412e-02],\n",
              "       [9.68178757e-01, 3.18212427e-02],\n",
              "       [5.68668465e-02, 9.43133153e-01],\n",
              "       [7.49254742e-02, 9.25074526e-01],\n",
              "       [9.23798590e-01, 7.62014096e-02],\n",
              "       [6.85324124e-01, 3.14675876e-01],\n",
              "       [1.01522195e-01, 8.98477805e-01],\n",
              "       [7.84353529e-01, 2.15646471e-01],\n",
              "       [9.79196378e-01, 2.08036219e-02],\n",
              "       [8.76552890e-01, 1.23447110e-01],\n",
              "       [2.08982526e-04, 9.99791017e-01],\n",
              "       [8.57542696e-02, 9.14245730e-01],\n",
              "       [8.08012304e-01, 1.91987696e-01],\n",
              "       [9.33911793e-01, 6.60882069e-02],\n",
              "       [4.66889827e-02, 9.53311017e-01],\n",
              "       [9.21173215e-01, 7.88267851e-02],\n",
              "       [5.42990505e-02, 9.45700949e-01],\n",
              "       [8.96782659e-01, 1.03217341e-01],\n",
              "       [6.52213761e-02, 9.34778624e-01],\n",
              "       [6.96257411e-01, 3.03742589e-01],\n",
              "       [4.42371020e-02, 9.55762898e-01],\n",
              "       [8.94972987e-01, 1.05027013e-01],\n",
              "       [7.80029498e-01, 2.19970502e-01],\n",
              "       [9.85193145e-01, 1.48068554e-02],\n",
              "       [9.15231721e-01, 8.47682790e-02],\n",
              "       [6.73791789e-01, 3.26208211e-01],\n",
              "       [6.47009599e-02, 9.35299040e-01],\n",
              "       [8.27018817e-01, 1.72981183e-01],\n",
              "       [9.08182737e-01, 9.18172630e-02],\n",
              "       [8.96428289e-01, 1.03571711e-01],\n",
              "       [9.50616605e-01, 4.93833951e-02],\n",
              "       [2.64052133e-04, 9.99735948e-01],\n",
              "       [9.21292114e-01, 7.87078859e-02],\n",
              "       [8.85522086e-01, 1.14477914e-01],\n",
              "       [8.38372365e-02, 9.16162763e-01],\n",
              "       [6.39128073e-01, 3.60871927e-01],\n",
              "       [8.92287972e-01, 1.07712028e-01],\n",
              "       [5.35307486e-02, 9.46469251e-01],\n",
              "       [9.35016212e-01, 6.49837884e-02],\n",
              "       [0.00000000e+00, 1.00000000e+00],\n",
              "       [8.67198129e-01, 1.32801871e-01],\n",
              "       [1.13042969e-01, 8.86957031e-01],\n",
              "       [5.28598138e-02, 9.47140186e-01],\n",
              "       [6.62365390e-02, 9.33763461e-01],\n",
              "       [7.45487355e-07, 9.99999255e-01],\n",
              "       [6.04476065e-02, 9.39552393e-01],\n",
              "       [9.21326407e-01, 7.86735930e-02],\n",
              "       [9.35890053e-01, 6.41099474e-02],\n",
              "       [9.40076942e-01, 5.99230583e-02],\n",
              "       [2.16723992e-04, 9.99783276e-01],\n",
              "       [4.85762937e-02, 9.51423706e-01],\n",
              "       [7.74292388e-01, 2.25707612e-01],\n",
              "       [9.86028478e-01, 1.39715219e-02],\n",
              "       [4.35265590e-02, 9.56473441e-01],\n",
              "       [7.58878900e-01, 2.41121100e-01],\n",
              "       [8.29369378e-01, 1.70630622e-01],\n",
              "       [6.13445560e-02, 9.38655444e-01],\n",
              "       [2.75919581e-04, 9.99724080e-01],\n",
              "       [2.04130046e-11, 1.00000000e+00],\n",
              "       [7.02254790e-01, 2.97745210e-01],\n",
              "       [9.11527043e-01, 8.84729575e-02],\n",
              "       [7.44643433e-01, 2.55356567e-01],\n",
              "       [8.86290627e-01, 1.13709373e-01],\n",
              "       [9.38636536e-01, 6.13634637e-02],\n",
              "       [3.61214618e-02, 9.63878538e-01],\n",
              "       [1.22142550e-06, 9.99998779e-01],\n",
              "       [8.82027028e-01, 1.17972972e-01],\n",
              "       [7.87509926e-01, 2.12490074e-01],\n",
              "       [9.05465571e-01, 9.45344295e-02],\n",
              "       [9.31373467e-01, 6.86265334e-02],\n",
              "       [6.82511925e-02, 9.31748807e-01],\n",
              "       [8.55916175e-01, 1.44083825e-01],\n",
              "       [6.79402591e-01, 3.20597409e-01],\n",
              "       [8.19488044e-01, 1.80511956e-01],\n",
              "       [8.95049273e-01, 1.04950727e-01],\n",
              "       [8.58646911e-01, 1.41353089e-01],\n",
              "       [7.55560918e-01, 2.44439082e-01],\n",
              "       [7.30669594e-01, 2.69330406e-01],\n",
              "       [8.28500092e-01, 1.71499908e-01],\n",
              "       [6.18857272e-01, 3.81142728e-01],\n",
              "       [7.47113009e-01, 2.52886991e-01],\n",
              "       [9.08139967e-01, 9.18600330e-02]])"
            ]
          },
          "metadata": {
            "tags": []
          },
          "execution_count": 91
        }
      ]
    },
    {
      "cell_type": "code",
      "metadata": {
        "colab": {
          "base_uri": "https://localhost:8080/"
        },
        "id": "zv7d7vwstSEI",
        "outputId": "27e4f517-0249-4efd-b6d5-8e9aace5b746"
      },
      "source": [
        "predicted_proba.shape"
      ],
      "execution_count": null,
      "outputs": [
        {
          "output_type": "execute_result",
          "data": {
            "text/plain": [
              "(140, 2)"
            ]
          },
          "metadata": {
            "tags": []
          },
          "execution_count": 92
        }
      ]
    },
    {
      "cell_type": "code",
      "metadata": {
        "colab": {
          "base_uri": "https://localhost:8080/"
        },
        "id": "Wk0Bz3yltbEn",
        "outputId": "06017c7c-53df-4b01-e867-855e075fda54"
      },
      "source": [
        "# select ONLY the probabilities referring to 1s\n",
        "predicted_proba[:,1]"
      ],
      "execution_count": null,
      "outputs": [
        {
          "output_type": "execute_result",
          "data": {
            "text/plain": [
              "array([0.06307713, 0.47963156, 0.92419047, 0.18042782, 0.96198521,\n",
              "       0.44517462, 0.92816083, 0.93940272, 0.11646967, 0.34440042,\n",
              "       0.96890885, 0.617827  , 1.        , 0.90386517, 0.92933345,\n",
              "       0.53967582, 0.30737603, 0.95789684, 1.        , 0.96712544,\n",
              "       0.24255022, 0.18474423, 0.88405723, 0.19201385, 0.92881233,\n",
              "       0.11002955, 0.15451328, 0.88532953, 0.08330488, 0.18914006,\n",
              "       0.93888755, 0.93195205, 0.0888743 , 0.97050905, 0.18474423,\n",
              "       0.94500294, 0.22787795, 0.87190308, 0.43577913, 0.45478671,\n",
              "       0.10222723, 0.99962265, 0.1058822 , 0.04121936, 0.15489353,\n",
              "       0.87634979, 0.99999858, 0.05591275, 0.15980931, 0.085993  ,\n",
              "       0.99975134, 0.06168365, 0.99999895, 0.07354757, 1.        ,\n",
              "       0.11763431, 0.98124109, 0.39166506, 0.03097074, 0.03182124,\n",
              "       0.94313315, 0.92507453, 0.07620141, 0.31467588, 0.8984778 ,\n",
              "       0.21564647, 0.02080362, 0.12344711, 0.99979102, 0.91424573,\n",
              "       0.1919877 , 0.06608821, 0.95331102, 0.07882679, 0.94570095,\n",
              "       0.10321734, 0.93477862, 0.30374259, 0.9557629 , 0.10502701,\n",
              "       0.2199705 , 0.01480686, 0.08476828, 0.32620821, 0.93529904,\n",
              "       0.17298118, 0.09181726, 0.10357171, 0.0493834 , 0.99973595,\n",
              "       0.07870789, 0.11447791, 0.91616276, 0.36087193, 0.10771203,\n",
              "       0.94646925, 0.06498379, 1.        , 0.13280187, 0.88695703,\n",
              "       0.94714019, 0.93376346, 0.99999925, 0.93955239, 0.07867359,\n",
              "       0.06410995, 0.05992306, 0.99978328, 0.95142371, 0.22570761,\n",
              "       0.01397152, 0.95647344, 0.2411211 , 0.17063062, 0.93865544,\n",
              "       0.99972408, 1.        , 0.29774521, 0.08847296, 0.25535657,\n",
              "       0.11370937, 0.06136346, 0.96387854, 0.99999878, 0.11797297,\n",
              "       0.21249007, 0.09453443, 0.06862653, 0.93174881, 0.14408383,\n",
              "       0.32059741, 0.18051196, 0.10495073, 0.14135309, 0.24443908,\n",
              "       0.26933041, 0.17149991, 0.38114273, 0.25288699, 0.09186003])"
            ]
          },
          "metadata": {
            "tags": []
          },
          "execution_count": 103
        }
      ]
    }
  ]
}